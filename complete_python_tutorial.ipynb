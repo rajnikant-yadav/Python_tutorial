{
 "cells": [
  {
   "cell_type": "code",
   "execution_count": 1,
   "metadata": {},
   "outputs": [],
   "source": [
    "#I EVERYBODY MY NAME IS RAJNIKANT YADAV \n",
    "#I AM GOING TO PYTHON TUTORIAL FOR BEGINER TO  ADVANCE\n"
   ]
  },
  {
   "cell_type": "code",
   "execution_count": 2,
   "metadata": {},
   "outputs": [
    {
     "data": {
      "text/plain": [
       "'\"\\nPython is an interpreted, high-level, general-purpose programming language. Created by Guido van Rossum \\nand first released in 1991\\nIts language constructs and object-oriented approach aim to help programmers write clear, logical code \\nfor small and large-scale projects '"
      ]
     },
     "execution_count": 2,
     "metadata": {},
     "output_type": "execute_result"
    }
   ],
   "source": [
    "#FIRST THING WHAT IS PYTHON ?\n",
    "\n",
    "# ANS  ,PYTHON IS AN PROGRAMING LANGUAGE LIKE C C++ JAVA \n",
    "#DEFINATION :\n",
    "\"\"\"\"\n",
    "Python is an interpreted, high-level, general-purpose programming language. Created by Guido van Rossum \n",
    "and first released in 1991\n",
    "Its language constructs and object-oriented approach aim to help programmers write clear, logical code \n",
    "for small and large-scale projects \"\"\""
   ]
  },
  {
   "cell_type": "code",
   "execution_count": 3,
   "metadata": {},
   "outputs": [],
   "source": [
    "#FOR THIS TUTORIAL I AM USING JUPYTER NOTEBOOK\n",
    "#FOR RUN THE CODE WE USE  SHIFT+ENTER"
   ]
  },
  {
   "cell_type": "code",
   "execution_count": 4,
   "metadata": {},
   "outputs": [
    {
     "name": "stdout",
     "output_type": "stream",
     "text": [
      "welcome this awesome tutorial\n"
     ]
    }
   ],
   "source": [
    "#LETS START WITH BASIC \n",
    "# for single line comment we use # symbol in python\n",
    "# for multi line comment we use \"\"\"\"          \"\"\"\" symbol in python\n",
    "\n",
    "#HOW TO PRINT ANY THING IN PYTHON ?\n",
    "\n",
    "print(\"welcome this awesome tutorial\")\n",
    "\n",
    "#o waw its easy"
   ]
  },
  {
   "cell_type": "code",
   "execution_count": 5,
   "metadata": {},
   "outputs": [
    {
     "name": "stdout",
     "output_type": "stream",
     "text": [
      "5\n"
     ]
    }
   ],
   "source": [
    "#LETS PRINT MORE THINGS\n",
    "print(5)"
   ]
  },
  {
   "cell_type": "code",
   "execution_count": 6,
   "metadata": {},
   "outputs": [
    {
     "name": "stdout",
     "output_type": "stream",
     "text": [
      "hi\n"
     ]
    }
   ],
   "source": [
    "print('hi')"
   ]
  },
  {
   "cell_type": "code",
   "execution_count": 7,
   "metadata": {},
   "outputs": [
    {
     "name": "stdout",
     "output_type": "stream",
     "text": [
      "5\n",
      "hi\n"
     ]
    }
   ],
   "source": [
    "print(5)\n",
    "print('hi')"
   ]
  },
  {
   "cell_type": "code",
   "execution_count": 8,
   "metadata": {},
   "outputs": [
    {
     "name": "stdout",
     "output_type": "stream",
     "text": [
      "13\n",
      "40\n",
      "37\n",
      "-3\n",
      "5\n",
      "5.625\n",
      "0.625\n"
     ]
    }
   ],
   "source": [
    "print(5+8)\n",
    "print(5*8)\n",
    "print(45-8)\n",
    "print(5-8)\n",
    "print(5%8)\n",
    "print(45/8)\n",
    "print(5/8)"
   ]
  },
  {
   "cell_type": "code",
   "execution_count": 9,
   "metadata": {},
   "outputs": [
    {
     "name": "stdout",
     "output_type": "stream",
     "text": [
      "10\n",
      "rajnikant\n"
     ]
    }
   ],
   "source": [
    "#what is variable ?\n",
    "\"\"\"ariables are used to store information to be referenced and manipulated in a computer program. \n",
    "They also provide a way of labeling data with a descriptive name, so our programs can be understood more clearly by the reader and ourselves.\n",
    "It is helpful to think of variables as containers that hold information.\n",
    "Their sole purpose is to label and store data in memory. This data can then be used throughout your program.\"\"\"\n",
    "\n",
    "#lets understand with example\n",
    "\n",
    "a=10\n",
    "print(a)\n",
    "name= \"rajnikant\" #since name is string therefore i use double inverted comma\n",
    "print(name)\n"
   ]
  },
  {
   "cell_type": "code",
   "execution_count": 10,
   "metadata": {},
   "outputs": [
    {
     "name": "stdout",
     "output_type": "stream",
     "text": [
      "enter the first number 5\n",
      "enter the second number 6\n",
      "sum is equal to 11\n"
     ]
    }
   ],
   "source": [
    "#HOW TO TAKE INPUTE FROM USER\n",
    "#SYNTAX  :   VARIABLENAME=DATATYPE(input(\" WRITE WHAT YOU WANTS TO INPUTE \"))\n",
    "\n",
    "a=int(input(\"enter the first number \"))\n",
    "\n",
    "b=int(input(\"enter the second number \"))\n",
    "\n",
    "c=a+b\n",
    "\n",
    "print(\"sum is equal to\",c)\n",
    "\n",
    "#its easy"
   ]
  },
  {
   "cell_type": "code",
   "execution_count": 11,
   "metadata": {},
   "outputs": [
    {
     "name": "stdout",
     "output_type": "stream",
     "text": [
      "enter you namerajnikant\n",
      "rajnikant\n",
      "enter the first number 6\n",
      "enter the first number 6\n",
      "66\n"
     ]
    }
   ],
   "source": [
    "name=input(\"enter you name\") #if you are not mention datatype all inputs are in string by default\n",
    "print(name)\n",
    "\n",
    "a=input(\"enter the first number \")\n",
    "\n",
    "b=input(\"enter the first number \")\n",
    "\n",
    "c=a+b\n",
    "\n",
    "print(c)\n",
    "#you can see  in answer a and b are not added becouse its take input as string"
   ]
  },
  {
   "cell_type": "code",
   "execution_count": 12,
   "metadata": {},
   "outputs": [
    {
     "data": {
      "text/plain": [
       "'In computer science and computer programming, a data type or simply type is an attribute of data \\nwhich tells the compiler or interpreter how the programmer intends to use the data. \\nMost programming languages support basic data types of integer numbers (of varying sizes), Floating-point numbers\\n(which approximate real numbers), characters and booleans. A data type constrains the values that an expression,\\nsuch as a variable or a function,might take. This data type defines the operations that can be done on the data, \\nthe meaning of the data, and the way values of that type can be stored. \\nA data type provides a set of values from which an expression(i.e. variable, function, etc) may take its values'"
      ]
     },
     "execution_count": 12,
     "metadata": {},
     "output_type": "execute_result"
    }
   ],
   "source": [
    "#LETS DISCUSS ABOUT DATATYPE \n",
    "# OK I THINK YOU ALL KNOW NUMBERS LIKE ,REAL NUMBER, INTEGER ,FRACTION,RATIONAL ,IRRATIONAL SAME IN COMPUTER SCIENCE\n",
    "#WE HAVE CATEGORY OF NUMBERS ,CHARACTERS AND STRING ETC ARE CALLED DATATYPE \n",
    "\n",
    "#DEFINITION  \n",
    "\"\"\"In computer science and computer programming, a data type or simply type is an attribute of data \n",
    "which tells the compiler or interpreter how the programmer intends to use the data. \n",
    "Most programming languages support basic data types of integer numbers (of varying sizes), Floating-point numbers\n",
    "(which approximate real numbers), characters and booleans. A data type constrains the values that an expression,\n",
    "such as a variable or a function,might take. This data type defines the operations that can be done on the data, \n",
    "the meaning of the data, and the way values of that type can be stored. \n",
    "A data type provides a set of values from which an expression(i.e. variable, function, etc) may take its values\"\"\"\n",
    "\n",
    "\n",
    "#SOME BASIC DATATYPES ARE \n",
    "#INTEGER EX 1,2,3,4,...\n",
    "#FLOAT (REAL)  3.4,5.6,67.78 ,8.9 .....\n",
    "#STRING 1,A,b ,4.5,.............\n",
    "\n"
   ]
  },
  {
   "cell_type": "code",
   "execution_count": 13,
   "metadata": {},
   "outputs": [
    {
     "name": "stdout",
     "output_type": "stream",
     "text": [
      "rajnikantyadav\n"
     ]
    }
   ],
   "source": [
    "#STRING OPERATION\n",
    "# 1 CONCATENATION\n",
    "name=\"rajnikant\"\n",
    "last_name=\"yadav\"\n",
    "result=name+last_name                  # + is a string concatenation operator\n",
    "print(result)"
   ]
  },
  {
   "cell_type": "code",
   "execution_count": 14,
   "metadata": {},
   "outputs": [
    {
     "name": "stdout",
     "output_type": "stream",
     "text": [
      "enter your name rajnikant\n",
      "enter your addressjuit\n",
      "rajnikantjuit\n"
     ]
    }
   ],
   "source": [
    "name=input(\"enter your name \")\n",
    "address=input(\"enter your address\")\n",
    "result=name+address\n",
    "print(result)"
   ]
  },
  {
   "cell_type": "code",
   "execution_count": 15,
   "metadata": {},
   "outputs": [
    {
     "name": "stdout",
     "output_type": "stream",
     "text": [
      "rajnikantyadav\n"
     ]
    }
   ],
   "source": [
    "#taking muliple input in a single line\n",
    "name,last_name=\"rajnikant\",\"yadav\"\n",
    "                \n",
    "print(name+last_name)"
   ]
  },
  {
   "cell_type": "code",
   "execution_count": 17,
   "metadata": {},
   "outputs": [
    {
     "name": "stdout",
     "output_type": "stream",
     "text": [
      "enter your name and your address  rajnikant juit\n",
      "rajnikantjuit\n"
     ]
    }
   ],
   "source": [
    "#taking muliple input from users in a single line\n",
    "name,address=input(\"enter your name and your address  \").split()   #in this case first take name as input and give space and then take address as input\n",
    "result=name+address\n",
    "print(result)"
   ]
  },
  {
   "cell_type": "code",
   "execution_count": 9,
   "metadata": {},
   "outputs": [
    {
     "data": {
      "text/plain": [
       "' str.format() is one of the string formatting methods in Python3, which allows multiple substitutions and \\nvalue formatting. This method lets us concatenate elements within a string through positional formatting '"
      ]
     },
     "execution_count": 9,
     "metadata": {},
     "output_type": "execute_result"
    }
   ],
   "source": [
    "# 2 STRING FORMATTING\n",
    "#WHAT IS STRING FORMATTING ?\n",
    "\"\"\" str.format() is one of the string formatting methods in Python3, which allows multiple substitutions and \n",
    "value formatting. This method lets us concatenate elements within a string through positional formatting \"\"\""
   ]
  },
  {
   "cell_type": "code",
   "execution_count": 12,
   "metadata": {},
   "outputs": [
    {
     "name": "stdout",
     "output_type": "stream",
     "text": [
      "rajnikant \n",
      " 22 \n",
      "rajnikant\n",
      " 22\n"
     ]
    }
   ],
   "source": [
    "#LETS UNDERSTAND BY EXAMPLE\n",
    "name='rajnikant'\n",
    "age='22'\n",
    "print(\"{} \\n {} \".format(name,age))\n",
    "\n",
    "#or \n",
    "print(f\"{name}\\n {age}\")"
   ]
  },
  {
   "cell_type": "code",
   "execution_count": 15,
   "metadata": {},
   "outputs": [
    {
     "name": "stdout",
     "output_type": "stream",
     "text": [
      "enter your namerajnikant\n",
      "enter your age22\n",
      "rajnikant\n",
      " 22\n"
     ]
    }
   ],
   "source": [
    "name=input(\"enter your name\")\n",
    "age=input(\"enter your age\")\n",
    "print(f\"{name}\\n {age}\")"
   ]
  },
  {
   "cell_type": "code",
   "execution_count": 18,
   "metadata": {},
   "outputs": [
    {
     "data": {
      "text/plain": [
       "' Strings are ordered sequences of character data. Indexing allows you to access individual characters in a string \\ndirectly by using a numeric value. String indexing is zero-based: the first character in the string has index 0, \\nthe next is 1, and so on.'"
      ]
     },
     "execution_count": 18,
     "metadata": {},
     "output_type": "execute_result"
    }
   ],
   "source": [
    "# 3 STRING INDEXING\n",
    "\n",
    "#WHAT IS STRING INDEXING\n",
    "\"\"\" Strings are ordered sequences of character data. Indexing allows you to access individual characters in a string \n",
    "directly by using a numeric value. String indexing is zero-based: the first character in the string has index 0, \n",
    "the next is 1, and so on.\"\"\"\n"
   ]
  },
  {
   "cell_type": "code",
   "execution_count": 22,
   "metadata": {},
   "outputs": [
    {
     "name": "stdout",
     "output_type": "stream",
     "text": [
      "n\n",
      "n i\n"
     ]
    }
   ],
   "source": [
    "#example\n",
    "name='rajnikant'\n",
    "print(name[3])\n",
    "\n",
    "print(name[3],name[4])\n"
   ]
  },
  {
   "cell_type": "code",
   "execution_count": 23,
   "metadata": {},
   "outputs": [
    {
     "data": {
      "text/plain": [
       "' Slicing is a cool feature to have in Python. Just like other programming languages, python also enables us to \\naccess individual characters of a string by using the technique of array-like indexing syntax '"
      ]
     },
     "execution_count": 23,
     "metadata": {},
     "output_type": "execute_result"
    }
   ],
   "source": [
    "#5 STRING SLICING / SELECTING\n",
    "#WHAT IS STRING SLICING ?\n",
    "\"\"\" Slicing is a cool feature to have in Python. Just like other programming languages, python also enables us to \n",
    "access individual characters of a string by using the technique of array-like indexing syntax \"\"\""
   ]
  },
  {
   "cell_type": "code",
   "execution_count": 26,
   "metadata": {},
   "outputs": [
    {
     "name": "stdout",
     "output_type": "stream",
     "text": [
      "ra\n",
      "jni\n",
      "ajn\n"
     ]
    }
   ],
   "source": [
    "#EXAMPLE\n",
    "name=\"rajnikant\"\n",
    "print(name[0:2])\n",
    "print(name[2:5])\n",
    "print(name[1:4])"
   ]
  },
  {
   "cell_type": "code",
   "execution_count": 27,
   "metadata": {},
   "outputs": [
    {
     "name": "stdout",
     "output_type": "stream",
     "text": [
      "jk\n"
     ]
    }
   ],
   "source": [
    "#step argument in string\n",
    "#SYNTAX   [START:END ARGUMENT:STEP ARGUMENT]\n",
    "name=\"rajnikantyadav\"\n",
    "print(name[2:8:3])"
   ]
  },
  {
   "cell_type": "code",
   "execution_count": 28,
   "metadata": {},
   "outputs": [
    {
     "name": "stdout",
     "output_type": "stream",
     "text": [
      "9\n"
     ]
    }
   ],
   "source": [
    "#LETS TALK ABOUT STRING METHOD\n",
    "#1  len\n",
    "#its calculate lenght of string\n",
    "name='rajnikant'\n",
    "print(len(name))"
   ]
  },
  {
   "cell_type": "code",
   "execution_count": 31,
   "metadata": {},
   "outputs": [
    {
     "name": "stdout",
     "output_type": "stream",
     "text": [
      "rajnikant\n"
     ]
    }
   ],
   "source": [
    "#lower    IT convert  uper letter to lower letter\n",
    "#example\n",
    "name='RAJNIKANT'\n",
    "print(name.lower())"
   ]
  },
  {
   "cell_type": "code",
   "execution_count": 32,
   "metadata": {},
   "outputs": [
    {
     "name": "stdout",
     "output_type": "stream",
     "text": [
      "RAJNIKANT\n"
     ]
    }
   ],
   "source": [
    "#upper   IT convert lower  letter to uper letter\n",
    "#example\n",
    "name='rajnikant'\n",
    "print(name.upper())"
   ]
  },
  {
   "cell_type": "code",
   "execution_count": 33,
   "metadata": {},
   "outputs": [
    {
     "name": "stdout",
     "output_type": "stream",
     "text": [
      "Rajnikant\n"
     ]
    }
   ],
   "source": [
    "# TITLE METHOD\n",
    "#it convert first letter in kapital letter and rest of them are small letter\n",
    "name='rajNIKant'\n",
    "print(name.title())"
   ]
  },
  {
   "cell_type": "code",
   "execution_count": 41,
   "metadata": {},
   "outputs": [
    {
     "name": "stdout",
     "output_type": "stream",
     "text": [
      "1\n",
      "2\n",
      "3\n"
     ]
    }
   ],
   "source": [
    "#COUNT METHOD IT COUNTS NUMBER OF SAME  LETTER PRESENT IN A WORD OR IN A SENTENCE\n",
    "word='beautiful'\n",
    "print(word.count('a'))\n",
    "sentence='my campuse is very beatiful'\n",
    "print(sentence.count('a'))\n",
    "print(sentence.count('e'))\n"
   ]
  },
  {
   "cell_type": "code",
   "execution_count": 43,
   "metadata": {},
   "outputs": [
    {
     "name": "stdout",
     "output_type": "stream",
     "text": [
      "   rajnikant     \n",
      "rajnikant\n",
      "rajnikant     \n",
      "   rajnikant\n"
     ]
    }
   ],
   "source": [
    "#strip method    it removes the space of right and left hand side of a sentence\n",
    "name=\"   rajnikant     \"\n",
    "print(name)\n",
    "print(name.strip())\n",
    "print(name.lstrip())\n",
    "print(name.rstrip())"
   ]
  },
  {
   "cell_type": "code",
   "execution_count": 45,
   "metadata": {},
   "outputs": [
    {
     "name": "stdout",
     "output_type": "stream",
     "text": [
      "rAjniAkAnt\n"
     ]
    }
   ],
   "source": [
    "#replace method    it replace a word with another word \n",
    "name='rajniakant'\n",
    "print(name.replace('a','A'))"
   ]
  },
  {
   "cell_type": "code",
   "execution_count": 46,
   "metadata": {},
   "outputs": [
    {
     "name": "stdout",
     "output_type": "stream",
     "text": [
      "2\n"
     ]
    }
   ],
   "source": [
    "#find method  its find position of word present in this sentesnce\n",
    "sentense='this is my college'\n",
    "print(sentense.find('is'))"
   ]
  },
  {
   "cell_type": "code",
   "execution_count": 6,
   "metadata": {},
   "outputs": [
    {
     "name": "stdout",
     "output_type": "stream",
     "text": [
      "***rajnikant***\n"
     ]
    }
   ],
   "source": [
    "#center method  \n",
    "#if you wants to add something start and end to the sentense you can use center method\n",
    "\n",
    "name='rajnikant'\n",
    "print(name.center(15,'*'))"
   ]
  },
  {
   "cell_type": "code",
   "execution_count": 18,
   "metadata": {},
   "outputs": [
    {
     "name": "stdout",
     "output_type": "stream",
     "text": [
      "d\n",
      "a\n",
      "w\n",
      "a\n",
      "t\n",
      "e\n",
      "n\n",
      "z\n",
      "i\n",
      "n\n",
      "g\n"
     ]
    }
   ],
   "source": [
    "#now i think its program time\n",
    "#1 Write a program to print every character of a string entered by user in a new line using loop. \n",
    "char='dawatenzing'\n",
    "for i in char:\n",
    "    print(i)\n",
    "    \n",
    "    \n",
    "    \n",
    "\n"
   ]
  },
  {
   "cell_type": "code",
   "execution_count": 30,
   "metadata": {},
   "outputs": [
    {
     "name": "stdout",
     "output_type": "stream",
     "text": [
      "12\n"
     ]
    }
   ],
   "source": [
    "# 2 Write a program to find the length of the string \"refrigerator\" without using len function.\n",
    "string=\"refrigerator\"\n",
    "count=0\n",
    "for  i in string:\n",
    "    count=count+1\n",
    "    \n",
    "    \n",
    "    \n",
    " \n",
    "print(count)"
   ]
  },
  {
   "cell_type": "code",
   "execution_count": 38,
   "metadata": {},
   "outputs": [
    {
     "name": "stdout",
     "output_type": "stream",
     "text": [
      "False\n",
      "4\n"
     ]
    }
   ],
   "source": [
    "# 3 Write a program to check if the letter 'e' is present in the word 'Umbrella'. \n",
    "a='Umbrella'\n",
    "\n",
    "print('z' in 'Umbrella')\n",
    "    \n",
    "print(a.find('e'))\n"
   ]
  },
  {
   "cell_type": "code",
   "execution_count": 39,
   "metadata": {},
   "outputs": [
    {
     "data": {
      "text/plain": [
       "'An operator in a programming language is a symbol that tells the compiler or interpreter to perform specific \\nmathematical, relational or logical operation and produce final result.'"
      ]
     },
     "execution_count": 39,
     "metadata": {},
     "output_type": "execute_result"
    }
   ],
   "source": [
    "#now lets talk about operator\n",
    "\"\"\"An operator in a programming language is a symbol that tells the compiler or interpreter to perform specific \n",
    "mathematical, relational or logical operation and produce final result.\"\"\""
   ]
  },
  {
   "cell_type": "code",
   "execution_count": 40,
   "metadata": {},
   "outputs": [
    {
     "data": {
      "text/plain": [
       "'\\nOperator    \\tDescription                                         \\tExample\\n\\n+           \\tAdds two operands                                   \\tA + B will give 30\\n-           \\tSubtracts second operand from the first             \\tA - B will give -10\\n*           \\tMultiplies both operands                            \\tA * B will give 200\\n/           \\tDivides numerator by de-numerator                   \\tB / A will give 2\\n%           \\tThis gives remainder of an integer division         \\tB % A will give 0\\n\\n'"
      ]
     },
     "execution_count": 40,
     "metadata": {},
     "output_type": "execute_result"
    }
   ],
   "source": [
    "# Arithmetic Operators\n",
    "\"\"\"\n",
    "Operator    \tDescription                                         \tExample\n",
    "\n",
    "+           \tAdds two operands                                   \tA + B will give 30\n",
    "-           \tSubtracts second operand from the first             \tA - B will give -10\n",
    "*           \tMultiplies both operands                            \tA * B will give 200\n",
    "/           \tDivides numerator by de-numerator                   \tB / A will give 2\n",
    "%           \tThis gives remainder of an integer division         \tB % A will give 0\n",
    "\n",
    "\"\"\""
   ]
  },
  {
   "cell_type": "code",
   "execution_count": 45,
   "metadata": {},
   "outputs": [
    {
     "name": "stdout",
     "output_type": "stream",
     "text": [
      "Value of c =  30\n",
      "Value of c = -10\n",
      "Value of c =  200\n",
      "Value of c =  2.0\n",
      "Value of c =  0\n"
     ]
    }
   ],
   "source": [
    "#example\n",
    "a = 10\n",
    "b = 20\n",
    "c = a + b   \n",
    "print( \"Value of c = \", c)\n",
    "   \n",
    "c = a - b   \n",
    "   \n",
    "print( \"Value of c =\", c)\n",
    "   \n",
    "c = a * b  \n",
    "print( \"Value of c = \", c)\n",
    "   \n",
    "c = b / a  \n",
    "print( \"Value of c = \", c)\n",
    "   \n",
    "c = b % a  \n",
    "print( \"Value of c = \", c)"
   ]
  },
  {
   "cell_type": "code",
   "execution_count": 47,
   "metadata": {},
   "outputs": [
    {
     "data": {
      "text/plain": [
       "'Consider a situation where we create two variables and assign them some values as follows −\\n\\nA = 20\\nB = 10\\n\\nHere, it is obvious that variable A is greater than B in values. So, we need the help of some symbols to write such \\nexpressions which are called relational expressions. If we use C programming language, then it will be written as \\nfollows −\\n\\n(A > B)\\n\\nHere, we used a symbol > and it is called a relational operator and in their simplest form, they produce Boolean \\nresults which means the result will be either true or false. Similarly, a programming language provides various \\nrelational operators. The following table lists down a few of the important relational operators available in \\nC programming language. Assume variable A holds 10 and variable B holds 20, then −'"
      ]
     },
     "execution_count": 47,
     "metadata": {},
     "output_type": "execute_result"
    }
   ],
   "source": [
    "# Relational Operators\n",
    "\n",
    "\"\"\"Consider a situation where we create two variables and assign them some values as follows −\n",
    "\n",
    "A = 20\n",
    "B = 10\n",
    "\n",
    "Here, it is obvious that variable A is greater than B in values. So, we need the help of some symbols to write such \n",
    "expressions which are called relational expressions. If we use C programming language, then it will be written as \n",
    "follows −\n",
    "\n",
    "(A > B)\n",
    "\n",
    "Here, we used a symbol > and it is called a relational operator and in their simplest form, they produce Boolean \n",
    "results which means the result will be either true or false. Similarly, a programming language provides various \n",
    "relational operators. The following table lists down a few of the important relational operators available in \n",
    "C programming language. Assume variable A holds 10 and variable B holds 20, then −\"\"\""
   ]
  },
  {
   "cell_type": "code",
   "execution_count": 48,
   "metadata": {},
   "outputs": [
    {
     "data": {
      "text/plain": [
       "' Operator \\tDescription \\tExample\\n== \\tChecks if the values of two operands are equal or not, if yes then condition becomes true. \\t(A == B) is not true.\\n!= \\tChecks if the values of two operands are equal or not, if values are not equal then condition becomes true. \\t(A != B) is true.\\n> \\tChecks if the value of left operand is greater than the value of right operand, if yes then condition becomes true. \\t(A > B) is not true.\\n< \\tChecks if the value of left operand is less than the value of right operand, if yes then condition becomes true. \\t(A < B) is true.\\n>= \\tChecks if the value of left operand is greater than or equal to the value of right operand, if yes then condition becomes true. \\t(A >= B) is not true.\\n<= \\tChecks if the value of left operand is less than or equal to the value of right operand, if yes then condition becomes true. \\t(A <= B) is true.'"
      ]
     },
     "execution_count": 48,
     "metadata": {},
     "output_type": "execute_result"
    }
   ],
   "source": [
    "\"\"\" Operator \tDescription \tExample\n",
    "== \tChecks if the values of two operands are equal or not, if yes then condition becomes true. \t(A == B) is not true.\n",
    "!= \tChecks if the values of two operands are equal or not, if values are not equal then condition becomes true. \t(A != B) is true.\n",
    "> \tChecks if the value of left operand is greater than the value of right operand, if yes then condition becomes true. \t(A > B) is not true.\n",
    "< \tChecks if the value of left operand is less than the value of right operand, if yes then condition becomes true. \t(A < B) is true.\n",
    ">= \tChecks if the value of left operand is greater than or equal to the value of right operand, if yes then condition becomes true. \t(A >= B) is not true.\n",
    "<= \tChecks if the value of left operand is less than or equal to the value of right operand, if yes then condition becomes true. \t(A <= B) is true.\"\"\""
   ]
  },
  {
   "cell_type": "code",
   "execution_count": 50,
   "metadata": {},
   "outputs": [
    {
     "data": {
      "text/plain": [
       "'Logical operators are very important in any programming language and they help us take decisions based on certain conditions. Suppose we want to combine the result of two conditions, then logical AND and OR logical operators help us in producing the final result.\\n\\nThe following table shows all the logical operators supported by the C language. Assume variable A holds 1 and variable B holds 0, then −\\n\\nOperator     \\tDescription                                                             \\tExample\\n\\n&&          \\tCalled Logical AND operator. If both the operands are non-zero,\\n                then condition becomes true.                                            \\t(A && B) is false.\\n||          \\tCalled Logical OR Operator. If any of the two operands is non-zero, \\n                then condition becomes true.                                            \\t(A || B) is true.\\n!           \\tCalled Logical NOT Operator. Use to reverses the logical state of its \\n                operand. If a condition is true then Logical NOT operator \\n                will make false.                                                        \\t!(A && B) is true.'"
      ]
     },
     "execution_count": 50,
     "metadata": {},
     "output_type": "execute_result"
    }
   ],
   "source": [
    "#Logical Operators\n",
    "\"\"\"Logical operators are very important in any programming language and they help us take decisions based on certain conditions. Suppose we want to combine the result of two conditions, then logical AND and OR logical operators help us in producing the final result.\n",
    "\n",
    "The following table shows all the logical operators supported by the C language. Assume variable A holds 1 and variable B holds 0, then −\n",
    "\n",
    "Operator     \tDescription                                                             \tExample\n",
    "\n",
    "&&          \tCalled Logical AND operator. If both the operands are non-zero,\n",
    "                then condition becomes true.                                            \t(A && B) is false.\n",
    "||          \tCalled Logical OR Operator. If any of the two operands is non-zero, \n",
    "                then condition becomes true.                                            \t(A || B) is true.\n",
    "!           \tCalled Logical NOT Operator. Use to reverses the logical state of its \n",
    "                operand. If a condition is true then Logical NOT operator \n",
    "                will make false.                                                        \t!(A && B) is true.\"\"\""
   ]
  },
  {
   "cell_type": "code",
   "execution_count": 5,
   "metadata": {},
   "outputs": [
    {
     "name": "stdout",
     "output_type": "stream",
     "text": [
      "enter the first number5\n",
      "enter the first number6\n",
      "False\n"
     ]
    }
   ],
   "source": [
    "#program based on operators\n",
    "#Take two inputs from user and check whether they are equal or not. \n",
    "a=int(input(\"enter the first number\"))\n",
    "b=int(input(\"enter the second number\"))\n",
    "print(a==b)"
   ]
  },
  {
   "cell_type": "code",
   "execution_count": 17,
   "metadata": {},
   "outputs": [
    {
     "name": "stdout",
     "output_type": "stream",
     "text": [
      "enter the first number5\n",
      "enter the second number6\n",
      "enter the third number5\n",
      "False\n",
      "True\n"
     ]
    }
   ],
   "source": [
    "#  Take 3 inputs from user and check :\n",
    "# all are equal\n",
    "# any of two are equal\n",
    "# ( use and or )\n",
    "# Answer\n",
    "\n",
    "a=int(input(\"enter the first number\"))\n",
    "b=int(input(\"enter the second number\"))\n",
    "c=int(input(\"enter the third number\"))\n",
    "print(a==b and b==c and a==c)\n",
    "print(a==b or b==c or a==c)\n"
   ]
  },
  {
   "cell_type": "code",
   "execution_count": 1,
   "metadata": {},
   "outputs": [
    {
     "data": {
      "text/plain": [
       "'onditional Statement in Python perform different computations or actions depending on whether a specific \\nBoolean constraint evaluates to true or false. Conditional statements are handled by IF statements in Python. '"
      ]
     },
     "execution_count": 1,
     "metadata": {},
     "output_type": "execute_result"
    }
   ],
   "source": [
    "#Hi dear now lets talk about loops and conditional, control statment \n",
    "#What is this \n",
    "# What are Conditional Statements?\n",
    "\"\"\"onditional Statement in Python perform different computations or actions depending on whether a specific \n",
    "Boolean constraint evaluates to true or false. Conditional statements are handled by IF statements in Python. \"\"\"\n"
   ]
  },
  {
   "cell_type": "code",
   "execution_count": 4,
   "metadata": {},
   "outputs": [
    {
     "name": "stdout",
     "output_type": "stream",
     "text": [
      "enter the first number5\n",
      "enter the first number6\n",
      "b is greater then b\n"
     ]
    }
   ],
   "source": [
    "#What is If  and else Statement? How to Use it?\n",
    "\n",
    "\"\"\"In Python, If Statement is used for decision making. It will run the body of code only when IF statement is true.\n",
    "\n",
    "When you want to justify one condition while the other condition is not true, then you use \"if statement\". \"\"\"\n",
    "\n",
    "\"\"\" \n",
    "Syntax:\n",
    "\n",
    "if expression:\n",
    " Statement\n",
    "else :\n",
    " Statement\n",
    "\n",
    "\"\"\"\n",
    "a=int(input(\"enter the first number\"))\n",
    "b=int(input(\"enter the first number\"))\n",
    "\n",
    "if a<=b:\n",
    "    print(\"b is greater then b\")\n",
    "    \n",
    "else:\n",
    "    print(\"a is gretater\")"
   ]
  },
  {
   "cell_type": "code",
   "execution_count": 5,
   "metadata": {},
   "outputs": [
    {
     "data": {
      "text/plain": [
       "'To correct the previous error made by \"else condition\", we can use \"elif\" statement. By using \"elif\" condition,you are \\ntelling the program to print out the third condition or possibility when the other condition goes wrong or incorrect. '"
      ]
     },
     "execution_count": 5,
     "metadata": {},
     "output_type": "execute_result"
    }
   ],
   "source": [
    "#How to use \"elif\" condition\n",
    "\n",
    "\"\"\"To correct the previous error made by \"else condition\", we can use \"elif\" statement. By using \"elif\" condition,you are \n",
    "telling the program to print out the third condition or possibility when the other condition goes wrong or incorrect. \"\"\""
   ]
  },
  {
   "cell_type": "code",
   "execution_count": 11,
   "metadata": {},
   "outputs": [
    {
     "name": "stdout",
     "output_type": "stream",
     "text": [
      "enter the first number 5\n",
      "enter the first number 6\n",
      "b is greater then a \n"
     ]
    }
   ],
   "source": [
    "a=int(input(\"enter the first number \"))\n",
    "b=int(input(\"enter the first number \"))\n",
    "\n",
    "if a<b:\n",
    "    print(\"b is greater then a \")\n",
    "    \n",
    "elif a==b:\n",
    "    print(\"a is equal to b \")\n",
    "else:\n",
    "    print(\"a is gretater \")"
   ]
  },
  {
   "cell_type": "code",
   "execution_count": 14,
   "metadata": {},
   "outputs": [
    {
     "name": "stdout",
     "output_type": "stream",
     "text": [
      "x is greater than or equal to y\n"
     ]
    }
   ],
   "source": [
    "def main():\n",
    "    x,y = 10,8\n",
    "    st = \"x is less than y\" if (x < y) else \"x is greater than or equal to y\"\n",
    "    print(st)\n",
    "    \n",
    "    \n",
    "    \n",
    "if __name__ == \"__main__\":\n",
    "    main()    "
   ]
  },
  {
   "cell_type": "code",
   "execution_count": 15,
   "metadata": {},
   "outputs": [
    {
     "name": "stdout",
     "output_type": "stream",
     "text": [
      "Shipping Cost is $25\n"
     ]
    }
   ],
   "source": [
    "#Nested IF Statement\n",
    "\n",
    "#Following example demonstrates nested if Statement \n",
    "total = 100\n",
    "#country = \"US\"\n",
    "country = \"AU\"\n",
    "if country == \"US\":\n",
    "    if total <= 50:\n",
    "        print(\"Shipping Cost is  $50\")\n",
    "elif total <= 100:\n",
    "        print(\"Shipping Cost is $25\")\n",
    "elif total <= 150:\n",
    "     print(\"Shipping Costs $5\")\n",
    "else:\n",
    "        print(\"FREE\")\n",
    "if country == \"AU\": \n",
    "    if total <= 50:\n",
    "        print(\"Shipping Cost is  $100\")\n",
    "else:\n",
    "     print(\"FREE\")"
   ]
  },
  {
   "cell_type": "code",
   "execution_count": 63,
   "metadata": {},
   "outputs": [
    {
     "name": "stdout",
     "output_type": "stream",
     "text": [
      "enter number5\n",
      "10\n"
     ]
    }
   ],
   "source": [
    "#WHILE LOOP\n",
    "#EXAMPLE\n",
    "i=0\n",
    "sum=0\n",
    "num=int(input(\"enter number\"))\n",
    "while(num!=0):\n",
    "    sum=sum+i\n",
    "    i=i+1\n",
    "    num=num-1\n",
    "    \n",
    "print(sum)    "
   ]
  },
  {
   "cell_type": "code",
   "execution_count": 64,
   "metadata": {},
   "outputs": [
    {
     "name": "stdout",
     "output_type": "stream",
     "text": [
      "enter number5\n",
      "10\n"
     ]
    }
   ],
   "source": [
    "i=0 \n",
    "sum=0\n",
    "num=int(input(\"enter number\"))\n",
    "for i in range(0,num):\n",
    "    sum=sum+i\n",
    "    i+=i+1\n",
    "print(sum)   "
   ]
  },
  {
   "cell_type": "code",
   "execution_count": null,
   "metadata": {},
   "outputs": [],
   "source": []
  },
  {
   "cell_type": "code",
   "execution_count": null,
   "metadata": {},
   "outputs": [],
   "source": []
  },
  {
   "cell_type": "code",
   "execution_count": 16,
   "metadata": {},
   "outputs": [
    {
     "data": {
      "text/plain": [
       "'A switch statement is a multiway branch statement that compares the value of a variable to the values specified in case statements.\\n\\nPython language doesn’t have a switch statement.\\n\\nPython uses dictionary mapping to implement switch statement in Python '"
      ]
     },
     "execution_count": 16,
     "metadata": {},
     "output_type": "execute_result"
    }
   ],
   "source": [
    "# Switch Statement\n",
    "\n",
    "# What is switch statement?\n",
    "\"\"\"A switch statement is a multiway branch statement that compares the value of a variable to the values specified in case statements.\n",
    "\n",
    "Python language doesn’t have a switch statement.\n",
    "\n",
    "Python uses dictionary mapping to implement switch statement in Python \"\"\""
   ]
  },
  {
   "cell_type": "code",
   "execution_count": 18,
   "metadata": {},
   "outputs": [],
   "source": [
    "# Example\n",
    "\n",
    "# function(argument){\n",
    "#     switch(argument) {\n",
    "#         case 0:\n",
    "#             return \"This is Case Zero\";\n",
    "#         case 1:\n",
    "#             return \" This is Case One\";\n",
    "#         case 2:\n",
    "#             return \" This is Case Two \";\n",
    "#         default:\n",
    "#             return \"nothing\";\n",
    "#     };\n",
    "# };\n",
    "\n",
    "\n"
   ]
  },
  {
   "cell_type": "code",
   "execution_count": 1,
   "metadata": {},
   "outputs": [
    {
     "data": {
      "text/plain": [
       "'A function is a block of code which only runs when it is called.\\n\\nYou can pass data, known as parameters, into a function.\\n\\nA function can return data as a result.'"
      ]
     },
     "execution_count": 1,
     "metadata": {},
     "output_type": "execute_result"
    }
   ],
   "source": [
    "#FUCTION IN PYTHON \n",
    "#WHAT IS THIS ?\n",
    "\"\"\"A function is a block of code which only runs when it is called.\n",
    "\n",
    "You can pass data, known as parameters, into a function.\n",
    "\n",
    "A function can return data as a result.\"\"\""
   ]
  },
  {
   "cell_type": "code",
   "execution_count": 2,
   "metadata": {},
   "outputs": [
    {
     "name": "stdout",
     "output_type": "stream",
     "text": [
      "Hello from a function\n"
     ]
    }
   ],
   "source": [
    "#Example\n",
    "def my_function():\n",
    "  print(\"Hello from a function\")\n",
    "\n",
    "my_function() "
   ]
  },
  {
   "cell_type": "code",
   "execution_count": 4,
   "metadata": {},
   "outputs": [
    {
     "name": "stdout",
     "output_type": "stream",
     "text": [
      "this is a function which ha no argument and no retunt type\n"
     ]
    }
   ],
   "source": [
    "#there are few types to use of function bassed on argument AND return type\n",
    "# 1 NO ARGUMENT AND NO RETURN TYPE\n",
    "def function1():\n",
    "    print(\"this is a function which ha no argument and no retunt type\")\n",
    "    \n",
    "function1()    "
   ]
  },
  {
   "cell_type": "code",
   "execution_count": 5,
   "metadata": {},
   "outputs": [
    {
     "name": "stdout",
     "output_type": "stream",
     "text": [
      "enter first number \n",
      "5\n",
      "enter second  number \n",
      "5\n",
      "sum is equal to 10\n"
     ]
    }
   ],
   "source": [
    "\n",
    "#(1)FUNCTION WITH NO ARGUMENT AND NO RETURN TYPE\n",
    "def add():\n",
    "    a=int(input(\"enter first number \\n\"))\n",
    "    b=int(input(\"enter second  number \\n\"))\n",
    "    c=a+b\n",
    "    print(f\"sum is equal to {c}\")\n",
    "    \n",
    "add()    "
   ]
  },
  {
   "cell_type": "code",
   "execution_count": 10,
   "metadata": {},
   "outputs": [
    {
     "name": "stdout",
     "output_type": "stream",
     "text": [
      "enter first number \n",
      "5\n",
      "enter second  number \n",
      "5\n",
      "your answer is=25\n"
     ]
    }
   ],
   "source": [
    "#(2) FUNCTION WITH ARGUMENT AND RETURN TYPE\n",
    "def mult(a,b):\n",
    "    c=a*b\n",
    "    return c\n",
    " \n",
    "\n",
    "a=int(input(\"enter first number \\n\"))\n",
    "b=int(input(\"enter second  number \\n\"))\n",
    "result=mult(a,b)\n",
    "print(f\"your answer is={result}\")\n",
    "#print(\"your answer is=\" ,result)"
   ]
  },
  {
   "cell_type": "code",
   "execution_count": 11,
   "metadata": {},
   "outputs": [
    {
     "name": "stdout",
     "output_type": "stream",
     "text": [
      "enter first number \n",
      "6\n",
      "enter second  number \n",
      "5\n",
      "your answer is =1\n"
     ]
    }
   ],
   "source": [
    "#(3)FUNCTION WITH NO ARGUMENT AND RETURN TYPE\n",
    "def sub():\n",
    "    a=int(input(\"enter first number \\n\"))\n",
    "    b=int(input(\"enter second  number \\n\"))\n",
    "    c=a-b\n",
    "    return c\n",
    "\n",
    "substraction=sub()\n",
    "print(f\"your answer is ={substraction}\")"
   ]
  },
  {
   "cell_type": "code",
   "execution_count": 13,
   "metadata": {},
   "outputs": [
    {
     "name": "stdout",
     "output_type": "stream",
     "text": [
      "enter first number \n",
      "5\n",
      "enter second  number \n",
      "4\n",
      "1.25\n"
     ]
    }
   ],
   "source": [
    "#(4)FUNCTION WITH ARGUMENT AND NO RETURN TYPE\n",
    "def div(a,b):\n",
    "    c=a/b\n",
    "    print(c)\n",
    "    \n",
    "d=int(input(\"enter first number \\n\"))\n",
    "e=int(input(\"enter second  number \\n\")) \n",
    "#division=div(d,e)\n",
    "div(d,e)\n",
    " "
   ]
  },
  {
   "cell_type": "code",
   "execution_count": 14,
   "metadata": {},
   "outputs": [
    {
     "data": {
      "text/plain": [
       "'Recursion is a method of programming or coding a problem, in which a function calls itself one or more times in its \\nbody. Usually, it is returning the return value of this function call. If a function definition satisfies the condition\\nof recursion, we call this function a recursive function'"
      ]
     },
     "execution_count": 14,
     "metadata": {},
     "output_type": "execute_result"
    }
   ],
   "source": [
    "#RECURTION \n",
    "#WHAT IS THIS ?\n",
    "\"\"\"Recursion is a method of programming or coding a problem, in which a function calls itself one or more times in its \n",
    "body. Usually, it is returning the return value of this function call. If a function definition satisfies the condition\n",
    "of recursion, we call this function a recursive function\"\"\""
   ]
  },
  {
   "cell_type": "code",
   "execution_count": 15,
   "metadata": {},
   "outputs": [
    {
     "name": "stdout",
     "output_type": "stream",
     "text": [
      "enter a number for its factorial6\n",
      "720\n"
     ]
    }
   ],
   "source": [
    "#EXAMPLE\n",
    "def fact(n):\n",
    "    if n<0:\n",
    "        print(\"this is a negative number ,the factorial of negative numbe does not exit\")\n",
    "    elif n==0:\n",
    "        return 1\n",
    "    else:\n",
    "            return n*fact(n-1)\n",
    "    \n",
    "num=int(input(\"enter a number for its factorial\")) \n",
    "factorial=fact(num)\n",
    "print(factorial)"
   ]
  },
  {
   "cell_type": "code",
   "execution_count": 1,
   "metadata": {},
   "outputs": [
    {
     "data": {
      "text/plain": [
       "'In function definitions, parameters are named entities that specify an argument that a given function can accept.\\n\\nWhen programming, you may not be aware of all the possible use cases of your code, and may want to offer more options \\nfor future programmers working with the module, or for users interacting with the code. We can pass a variable number \\nof arguments to a function by using *args and **kwargs in our code. \\n\\nUnderstanding *args\\n\\nIn Python, the single-asterisk form of *args can be used as a parameter to send a non-keyworded variable-length \\nargument list to functions. It is worth noting that the asterisk (*) is the important element here, as the word args \\nis the established conventional idiom, though it is not enforced by the language.\\n\\nLet’s look at a typical function that uses two arguments:\\nlets_multiply.py\\n\\ndef multiply(x, y):\\n    print (x * y)\\n\\nIn the code above, we built the function with x and y as arguments, and then when we call the function, we need to \\nuse numbers to correspond with x and y. In this case, we will pass the integer 5 in for x and the integer 4 in for y:\\nlets_multiply.py\\n\\ndef multiply(x, y):\\n    print (x * y)\\n\\nmultiply(5, 4)\\n\\nNow, we can run the above code:\\n\\n    python lets_multiply.py\\n\\nWe’ll receive the following output, showing that the integers 5 and 4 were multiplied as per the multiply(x,y) \\nfunction:\\n\\nOutput\\n20\\n\\nWhat if, later on, we decide that we would like to multiply three numbers rather than just two? If we try to add an \\nadditional number to the function, as shown below, we’ll receive an error.\\nlets_multiply.py\\n\\ndef multiply(x, y):\\n    print (x * y)\\n\\nmultiply(5, 4, 3)\\n\\nOutput\\nTypeError: multiply() takes 2 positional arguments but 3 were given\\n\\nSo, if you suspect that you may need to use more arguments later on, you can make use of *args as your parameter \\ninstead.\\n\\nWe can essentially create the same function and code that we showed in the first example, by removing x and y as \\nfunction parameters, and instead replacing them with *args:\\nlets_multiply.py\\n\\ndef multiply(*args):\\n    z = 1\\n    for num in args:\\n        z *= num\\n    print(z)\\n\\nmultiply(4, 5)\\nmultiply(10, 9)\\nmultiply(2, 3, 4)\\nmultiply(3, 5, 10, 6)\\n\\nWhen we run this code, we’ll receive the product for each of these function calls:\\n\\nOutput\\n20\\n90\\n24\\n900\\n\\nBecause we used *args to send a variable-length argument list to our function, we were able to pass in as many arguments\\nas we wished into the function calls.\\n\\nWith *args you can create more flexible code that accepts a varied amount of non-keyworded arguments within your \\nfunction. '"
      ]
     },
     "execution_count": 1,
     "metadata": {},
     "output_type": "execute_result"
    }
   ],
   "source": [
    "#1(* (args) operator) it is use to make function flexible\n",
    "\"\"\"In function definitions, parameters are named entities that specify an argument that a given function can accept.\n",
    "\n",
    "When programming, you may not be aware of all the possible use cases of your code, and may want to offer more options \n",
    "for future programmers working with the module, or for users interacting with the code. We can pass a variable number \n",
    "of arguments to a function by using *args and **kwargs in our code. \n",
    "\n",
    "Understanding *args\n",
    "\n",
    "In Python, the single-asterisk form of *args can be used as a parameter to send a non-keyworded variable-length \n",
    "argument list to functions. It is worth noting that the asterisk (*) is the important element here, as the word args \n",
    "is the established conventional idiom, though it is not enforced by the language.\n",
    "\n",
    "Let’s look at a typical function that uses two arguments:\n",
    "lets_multiply.py\n",
    "\n",
    "def multiply(x, y):\n",
    "    print (x * y)\n",
    "\n",
    "In the code above, we built the function with x and y as arguments, and then when we call the function, we need to \n",
    "use numbers to correspond with x and y. In this case, we will pass the integer 5 in for x and the integer 4 in for y:\n",
    "lets_multiply.py\n",
    "\n",
    "def multiply(x, y):\n",
    "    print (x * y)\n",
    "\n",
    "multiply(5, 4)\n",
    "\n",
    "Now, we can run the above code:\n",
    "\n",
    "    python lets_multiply.py\n",
    "\n",
    "We’ll receive the following output, showing that the integers 5 and 4 were multiplied as per the multiply(x,y) \n",
    "function:\n",
    "\n",
    "Output\n",
    "20\n",
    "\n",
    "What if, later on, we decide that we would like to multiply three numbers rather than just two? If we try to add an \n",
    "additional number to the function, as shown below, we’ll receive an error.\n",
    "lets_multiply.py\n",
    "\n",
    "def multiply(x, y):\n",
    "    print (x * y)\n",
    "\n",
    "multiply(5, 4, 3)\n",
    "\n",
    "Output\n",
    "TypeError: multiply() takes 2 positional arguments but 3 were given\n",
    "\n",
    "So, if you suspect that you may need to use more arguments later on, you can make use of *args as your parameter \n",
    "instead.\n",
    "\n",
    "We can essentially create the same function and code that we showed in the first example, by removing x and y as \n",
    "function parameters, and instead replacing them with *args:\n",
    "lets_multiply.py\n",
    "\n",
    "def multiply(*args):\n",
    "    z = 1\n",
    "    for num in args:\n",
    "        z *= num\n",
    "    print(z)\n",
    "\n",
    "multiply(4, 5)\n",
    "multiply(10, 9)\n",
    "multiply(2, 3, 4)\n",
    "multiply(3, 5, 10, 6)\n",
    "\n",
    "When we run this code, we’ll receive the product for each of these function calls:\n",
    "\n",
    "Output\n",
    "20\n",
    "90\n",
    "24\n",
    "900\n",
    "\n",
    "Because we used *args to send a variable-length argument list to our function, we were able to pass in as many arguments\n",
    "as we wished into the function calls.\n",
    "\n",
    "With *args you can create more flexible code that accepts a varied amount of non-keyworded arguments within your \n",
    "function. \"\"\""
   ]
  },
  {
   "cell_type": "code",
   "execution_count": 2,
   "metadata": {},
   "outputs": [
    {
     "name": "stdout",
     "output_type": "stream",
     "text": [
      "5\n"
     ]
    }
   ],
   "source": [
    "#example \n",
    "def add(a,b):\n",
    "    return a+b\n",
    "\n",
    "print(add(2,3))\n"
   ]
  },
  {
   "cell_type": "code",
   "execution_count": 3,
   "metadata": {},
   "outputs": [
    {
     "name": "stdout",
     "output_type": "stream",
     "text": [
      "(1, 2, 3, 4, 5, 6)\n"
     ]
    }
   ],
   "source": [
    "def total(*args):\n",
    "    print(args)\n",
    "    \n",
    "total(1,2,3,4,5,6,)    #generaly we use *args by convension"
   ]
  },
  {
   "cell_type": "code",
   "execution_count": 4,
   "metadata": {},
   "outputs": [
    {
     "name": "stdout",
     "output_type": "stream",
     "text": [
      "45\n"
     ]
    }
   ],
   "source": [
    "def all_total(*args):\n",
    "    total=0\n",
    "    for i in args:\n",
    "        total +=i\n",
    "    return total\n",
    "    \n",
    "\n",
    "print(all_total(1,2,3,4,5,6,7,8,9))"
   ]
  },
  {
   "cell_type": "code",
   "execution_count": 5,
   "metadata": {},
   "outputs": [
    {
     "name": "stdout",
     "output_type": "stream",
     "text": [
      "1\n",
      "(2, 3, 4, 5, 6)\n",
      "720\n"
     ]
    }
   ],
   "source": [
    "# *args with normal parameter\n",
    "def multiply_nums(num,*args):\n",
    "    mult=1\n",
    "    print(num)\n",
    "    print(args)\n",
    "    for i in args:\n",
    "        mult*=i\n",
    "    return mult\n",
    "    \n",
    "print(multiply_nums(1,2,3,4,5,6))    "
   ]
  },
  {
   "cell_type": "code",
   "execution_count": 6,
   "metadata": {},
   "outputs": [
    {
     "data": {
      "text/plain": [
       "'The double asterisk form of **kwargs is used to pass a keyworded, variable-length argument dictionary to a \\nfunction. Again, the two asterisks (**) are the important element here, as the word kwargs is conventionally used, \\nthough not enforced by the language.\\n\\nLike *args, **kwargs can take however many arguments you would like to supply to it. However, **kwargs differs from\\n*args in that you will need to assign keywords.\\n\\nFirst, let’s simply print out the **kwargs arguments that we pass to a function. We’ll create a short function to do \\nthis:\\nprint_kwargs.py\\n\\ndef print_kwargs(**kwargs):\\n        print(kwargs)\\n\\nNext, we’ll call the function with some keyworded arguments passed into the function:\\nprint_kwargs.py\\n\\ndef print_kwargs(**kwargs):\\n        print(kwargs)\\n\\nprint_kwargs(kwargs_1=\"Shark\", kwargs_2=4.5, kwargs_3=True)\\n\\nLet’s run the program above and look at the output:\\n\\n    python print_kwargs.py\\n\\nOutput\\n{\\'kwargs_3\\': True, \\'kwargs_2\\': 4.5, \\'kwargs_1\\': \\'Shark\\'}\\n\\nDepending on the version of Python 3 you are currently using, the dictionary data type may be unordered. In Python 3.6 \\nand above, you’ll receive the key-value pairs in order, but in earlier versions, the pairs will be output in a random \\norder.\\n\\nWhat is important to note is that a dictionary called kwargs is created and we can work with it just like we can work \\nwith other dictionaries.\\n\\nLet’s create another short program to show how we can make use of **kwargs. Here we’ll create a function to greet a \\ndictionary of names. First, we’ll start with a dictionary of two names:\\nprint_values.py\\n\\ndef print_values(**kwargs):\\n    for key, value in kwargs.items():\\n        print(\"The value of {} is {}\".format(key, value))\\n\\nprint_values(my_name=\"Sammy\", your_name=\"Casey\")\\n\\nWe can now run the program and look at the output:\\n\\n    python print_values.py\\n\\nOutput\\nThe value of your_name is Casey\\nThe value of my_name is Sammy\\n\\nAgain, because dictionaries may be unordered, your output may be with the name Casey first or with the name Sammy first.\\n\\n\\nLet’s now pass additional arguments to the function to show that **kwargs will accept however many arguments you would \\nlike to include:\\nprint_values.py\\n\\ndef print_values(**kwargs):\\n    for key, value in kwargs.items():\\n        print(\"The value of {} is {}\".format(key, value))\\n\\nprint_values(\\n            name_1=\"Alex\",\\n            name_2=\"Gray\",\\n            name_3=\"Harper\",\\n            name_4=\"Phoenix\",\\n            name_5=\"Remy\",\\n            name_6=\"Val\"\\n        )\\n\\nWhen we run the program at this point, we’ll receive the following output, which may again be unordered:\\n\\nOutput\\nThe value of name_2 is Gray\\nThe value of name_6 is Val\\nThe value of name_4 is Phoenix\\nThe value of name_5 is Remy\\nThe value of name_3 is Harper\\nThe value of name_1 is Alex\\n\\nUsing **kwargs provides us with flexibility to use keyword arguments in our program. When we use **kwargs as a parameter,\\nwe don’t need to know how many arguments we would eventually like to pass to a function. '"
      ]
     },
     "execution_count": 6,
     "metadata": {},
     "output_type": "execute_result"
    }
   ],
   "source": [
    "#Understanding **kwargs\n",
    "\"\"\"The double asterisk form of **kwargs is used to pass a keyworded, variable-length argument dictionary to a \n",
    "function. Again, the two asterisks (**) are the important element here, as the word kwargs is conventionally used, \n",
    "though not enforced by the language.\n",
    "\n",
    "Like *args, **kwargs can take however many arguments you would like to supply to it. However, **kwargs differs from\n",
    "*args in that you will need to assign keywords.\n",
    "\n",
    "First, let’s simply print out the **kwargs arguments that we pass to a function. We’ll create a short function to do \n",
    "this:\n",
    "print_kwargs.py\n",
    "\n",
    "def print_kwargs(**kwargs):\n",
    "        print(kwargs)\n",
    "\n",
    "Next, we’ll call the function with some keyworded arguments passed into the function:\n",
    "print_kwargs.py\n",
    "\n",
    "def print_kwargs(**kwargs):\n",
    "        print(kwargs)\n",
    "\n",
    "print_kwargs(kwargs_1=\"Shark\", kwargs_2=4.5, kwargs_3=True)\n",
    "\n",
    "Let’s run the program above and look at the output:\n",
    "\n",
    "    python print_kwargs.py\n",
    "\n",
    "Output\n",
    "{'kwargs_3': True, 'kwargs_2': 4.5, 'kwargs_1': 'Shark'}\n",
    "\n",
    "Depending on the version of Python 3 you are currently using, the dictionary data type may be unordered. In Python 3.6 \n",
    "and above, you’ll receive the key-value pairs in order, but in earlier versions, the pairs will be output in a random \n",
    "order.\n",
    "\n",
    "What is important to note is that a dictionary called kwargs is created and we can work with it just like we can work \n",
    "with other dictionaries.\n",
    "\n",
    "Let’s create another short program to show how we can make use of **kwargs. Here we’ll create a function to greet a \n",
    "dictionary of names. First, we’ll start with a dictionary of two names:\n",
    "print_values.py\n",
    "\n",
    "def print_values(**kwargs):\n",
    "    for key, value in kwargs.items():\n",
    "        print(\"The value of {} is {}\".format(key, value))\n",
    "\n",
    "print_values(my_name=\"Sammy\", your_name=\"Casey\")\n",
    "\n",
    "We can now run the program and look at the output:\n",
    "\n",
    "    python print_values.py\n",
    "\n",
    "Output\n",
    "The value of your_name is Casey\n",
    "The value of my_name is Sammy\n",
    "\n",
    "Again, because dictionaries may be unordered, your output may be with the name Casey first or with the name Sammy first.\n",
    "\n",
    "\n",
    "Let’s now pass additional arguments to the function to show that **kwargs will accept however many arguments you would \n",
    "like to include:\n",
    "print_values.py\n",
    "\n",
    "def print_values(**kwargs):\n",
    "    for key, value in kwargs.items():\n",
    "        print(\"The value of {} is {}\".format(key, value))\n",
    "\n",
    "print_values(\n",
    "            name_1=\"Alex\",\n",
    "            name_2=\"Gray\",\n",
    "            name_3=\"Harper\",\n",
    "            name_4=\"Phoenix\",\n",
    "            name_5=\"Remy\",\n",
    "            name_6=\"Val\"\n",
    "        )\n",
    "\n",
    "When we run the program at this point, we’ll receive the following output, which may again be unordered:\n",
    "\n",
    "Output\n",
    "The value of name_2 is Gray\n",
    "The value of name_6 is Val\n",
    "The value of name_4 is Phoenix\n",
    "The value of name_5 is Remy\n",
    "The value of name_3 is Harper\n",
    "The value of name_1 is Alex\n",
    "\n",
    "Using **kwargs provides us with flexibility to use keyword arguments in our program. When we use **kwargs as a parameter,\n",
    "we don’t need to know how many arguments we would eventually like to pass to a function. \"\"\""
   ]
  },
  {
   "cell_type": "code",
   "execution_count": 7,
   "metadata": {},
   "outputs": [
    {
     "name": "stdout",
     "output_type": "stream",
     "text": [
      "{'first_name': 'rajnikant', 'last_name': 'yadav'}\n",
      "<class 'dict'>\n"
     ]
    }
   ],
   "source": [
    "#   ** as parameter\n",
    "def func(**kwargs):\n",
    "    print(kwargs)\n",
    "    print(type(kwargs))\n",
    "    \n",
    "    \n",
    "func(first_name='rajnikant',last_name=\"yadav\")"
   ]
  },
  {
   "cell_type": "code",
   "execution_count": null,
   "metadata": {},
   "outputs": [],
   "source": []
  },
  {
   "cell_type": "code",
   "execution_count": null,
   "metadata": {},
   "outputs": [],
   "source": []
  },
  {
   "cell_type": "code",
   "execution_count": null,
   "metadata": {},
   "outputs": [],
   "source": [
    "#WHAT IS default parameter\n",
    "#scope of variable"
   ]
  },
  {
   "cell_type": "code",
   "execution_count": 16,
   "metadata": {},
   "outputs": [
    {
     "name": "stdout",
     "output_type": "stream",
     "text": [
      "[1, 2, 3, 4.0, 6.777, 'r', 'rajnikant']\n"
     ]
    }
   ],
   "source": [
    "#what is list\n",
    "#ans list is the collection of  data type\n",
    "list1=[1,2,3,4.0,6.777,'r',\"rajnikant\"]\n",
    "print(list1)"
   ]
  },
  {
   "cell_type": "code",
   "execution_count": 17,
   "metadata": {},
   "outputs": [
    {
     "name": "stdout",
     "output_type": "stream",
     "text": [
      "[1, 2, 3, 4.0, 6.777]\n",
      "[1, 3, 6.777, 'rajnikant']\n"
     ]
    }
   ],
   "source": [
    "print(list1[:5])\n",
    "print(list1[:8:2])"
   ]
  },
  {
   "cell_type": "code",
   "execution_count": 19,
   "metadata": {},
   "outputs": [
    {
     "name": "stdout",
     "output_type": "stream",
     "text": [
      "[1, 2, 3, 4.0, 6.777, 'r', 'rajnikant', 'mango']\n"
     ]
    }
   ],
   "source": [
    "#lets study about list method\n",
    "#1 append\n",
    "list1=[1,2,3,4.0,6.777,'r',\"rajnikant\"]\n",
    "list1.append('mango')\n",
    "print(list1)"
   ]
  },
  {
   "cell_type": "code",
   "execution_count": 20,
   "metadata": {},
   "outputs": [
    {
     "name": "stdout",
     "output_type": "stream",
     "text": [
      "[1, 2, 3, 4.0, 6.777, 'r', 'rajnikant']\n"
     ]
    }
   ],
   "source": [
    "#2 pop method\n",
    "list1.pop()\n",
    "print(list1)"
   ]
  },
  {
   "cell_type": "code",
   "execution_count": 21,
   "metadata": {},
   "outputs": [
    {
     "name": "stdout",
     "output_type": "stream",
     "text": [
      "[1, 2, 3, 4, 5, 6, 7, 8]\n"
     ]
    }
   ],
   "source": [
    "#3 concatenate +\n",
    "l1=[1,2,3,4]\n",
    "l2=[5,6,7,8]\n",
    "l=l1+l2\n",
    "print(l)"
   ]
  },
  {
   "cell_type": "code",
   "execution_count": 22,
   "metadata": {},
   "outputs": [
    {
     "name": "stdout",
     "output_type": "stream",
     "text": [
      "['1', '2', '3', '4', '6', '5', '6', '7', '8']\n"
     ]
    }
   ],
   "source": [
    "# 4 extend\n",
    "l3=['1','2','3','4','6']\n",
    "l4=['5','6','7','8']\n",
    "l3.extend(l4)\n",
    "print(l3)\n"
   ]
  },
  {
   "cell_type": "code",
   "execution_count": 23,
   "metadata": {},
   "outputs": [
    {
     "name": "stdout",
     "output_type": "stream",
     "text": [
      "[0, 1, 2, 3, 4, 5, 6, 7, 8, 9]\n"
     ]
    }
   ],
   "source": [
    "#CREATE A LIST WITH THE HELP OF LOOPS\n",
    "num=list(range(0,10))\n",
    "print(num)"
   ]
  },
  {
   "cell_type": "code",
   "execution_count": 24,
   "metadata": {},
   "outputs": [
    {
     "name": "stdout",
     "output_type": "stream",
     "text": [
      "[0, 2, 4, 6, 8]\n"
     ]
    }
   ],
   "source": [
    "#CREATE A LIST WITH THE HELP OF LOOPS AND STEP ARGUMENT\n",
    "num=list(range(0,10,2))\n",
    "print(num)"
   ]
  },
  {
   "cell_type": "code",
   "execution_count": 31,
   "metadata": {},
   "outputs": [
    {
     "name": "stdout",
     "output_type": "stream",
     "text": [
      "3\n"
     ]
    }
   ],
   "source": [
    "#5 Index method   it gives the index of value present in list\n",
    "num=list(range(0,10,2))\n",
    "print(num.index(6))\n"
   ]
  },
  {
   "cell_type": "markdown",
   "metadata": {},
   "source": [
    "# max and min method \n",
    "\n",
    "num=list(range(0,10,2))\n",
    "print(min(num))\n",
    "print(max(num))"
   ]
  },
  {
   "cell_type": "code",
   "execution_count": 32,
   "metadata": {},
   "outputs": [
    {
     "name": "stdout",
     "output_type": "stream",
     "text": [
      "0\n",
      "8\n"
     ]
    }
   ],
   "source": [
    "#max and min method\n",
    "num=list(range(0,10,2))\n",
    "print(min(num))\n",
    "print(max(num))"
   ]
  },
  {
   "cell_type": "code",
   "execution_count": 37,
   "metadata": {},
   "outputs": [
    {
     "data": {
      "text/plain": [
       "'A tuple is a sequence of immutable Python objects. Tuples are sequences, just like lists. The differences between \\ntuples and lists are, the tuples cannot be changed unlike lists and tuples use parentheses, whereas lists use square \\nbrackets. Creating a tuple is as simple as putting different comma-separated values.'"
      ]
     },
     "execution_count": 37,
     "metadata": {},
     "output_type": "execute_result"
    }
   ],
   "source": [
    "#Lets talk about tuple\n",
    "#TUPLES\n",
    "#waht is tuples ?\n",
    "\"\"\"A tuple is a sequence of immutable Python objects. Tuples are sequences, just like lists. The differences between \n",
    "tuples and lists are, the tuples cannot be changed unlike lists and tuples use parentheses, whereas lists use square \n",
    "brackets. Creating a tuple is as simple as putting different comma-separated values.\"\"\""
   ]
  },
  {
   "cell_type": "code",
   "execution_count": 34,
   "metadata": {},
   "outputs": [
    {
     "name": "stdout",
     "output_type": "stream",
     "text": [
      "(1, 3, 4, 5.0, 6.988)\n"
     ]
    }
   ],
   "source": [
    "tup=(1,3,4,5.0,6.988)\n",
    "print(tup)\n",
    "\n"
   ]
  },
  {
   "cell_type": "code",
   "execution_count": 35,
   "metadata": {},
   "outputs": [
    {
     "name": "stdout",
     "output_type": "stream",
     "text": [
      "('rajnikant', 'yadav', 7, 7.99)\n"
     ]
    }
   ],
   "source": [
    "tup1=('rajnikant',\"yadav\",7,7.99)\n",
    "print(tup1)"
   ]
  },
  {
   "cell_type": "code",
   "execution_count": 36,
   "metadata": {},
   "outputs": [
    {
     "name": "stdout",
     "output_type": "stream",
     "text": [
      "rajnikant\n",
      "yadav\n",
      "7\n",
      "7.99\n",
      "<class 'tuple'>\n"
     ]
    }
   ],
   "source": [
    "tup1=('rajnikant',\"yadav\",7,7.99)\n",
    "for i in tup1:\n",
    "    print(i)\n",
    "   \n",
    "print(type(tup1))"
   ]
  },
  {
   "cell_type": "code",
   "execution_count": 38,
   "metadata": {},
   "outputs": [
    {
     "name": "stdout",
     "output_type": "stream",
     "text": [
      "(0, 1, 2, 3, 4, 5, 6, 7, 8, 9)\n"
     ]
    }
   ],
   "source": [
    "#we can also create tulpe like list with help of range\n",
    "tup2=tuple(range(0,10))\n",
    "print(tup2)"
   ]
  },
  {
   "cell_type": "code",
   "execution_count": 40,
   "metadata": {},
   "outputs": [
    {
     "data": {
      "text/plain": [
       "\"Dictionary in Python is an unordered collection of data values, used to store data values like a map, which unlike \\nother Data Types that hold only single value as an element, Dictionary holds key:value pair. ... Each key-value pair \\nin a Dictionary is separated by a colon :, whereas each key is separated by a 'comma'.  \""
      ]
     },
     "execution_count": 40,
     "metadata": {},
     "output_type": "execute_result"
    }
   ],
   "source": [
    "#Now its to talk about dictionary\n",
    "#what is dictionary\n",
    "\"\"\"Dictionary in Python is an unordered collection of data values, used to store data values like a map, which unlike \n",
    "other Data Types that hold only single value as an element, Dictionary holds key:value pair. ... Each key-value pair \n",
    "in a Dictionary is separated by a colon :, whereas each key is separated by a 'comma'.  \"\"\""
   ]
  },
  {
   "cell_type": "code",
   "execution_count": 41,
   "metadata": {},
   "outputs": [
    {
     "name": "stdout",
     "output_type": "stream",
     "text": [
      "{'name': 'rajni', 'age': 22, 'branch': 'ece'}\n",
      "<class 'dict'>\n"
     ]
    }
   ],
   "source": [
    "user={'name':'rajni','age':22,'branch':'ece'}   #name is called keys and rajni is called values  and so on\n",
    "print(user)\n",
    "\n",
    "print(type(user))"
   ]
  },
  {
   "cell_type": "code",
   "execution_count": 42,
   "metadata": {},
   "outputs": [
    {
     "name": "stdout",
     "output_type": "stream",
     "text": [
      "{'name': 'rajni', 'lastname': 'yadav', 'age': 22, 'college': 'juit'}\n"
     ]
    }
   ],
   "source": [
    "# this is another style of writing dictionary \n",
    "user1={'name':'rajni',\n",
    "       'lastname':'yadav',\n",
    "       'age':22,\n",
    "       'college':'juit'\n",
    "    }\n",
    "print(user1)"
   ]
  },
  {
   "cell_type": "code",
   "execution_count": 43,
   "metadata": {},
   "outputs": [
    {
     "name": "stdout",
     "output_type": "stream",
     "text": [
      "{'name': 'rajni'}\n"
     ]
    }
   ],
   "source": [
    "#HOW TO ADD DATA TO THE EMPTY DICTIONARY\n",
    "user2={}\n",
    "user2['name']='rajni'\n",
    "print(user2)"
   ]
  },
  {
   "cell_type": "code",
   "execution_count": 44,
   "metadata": {},
   "outputs": [
    {
     "name": "stdout",
     "output_type": "stream",
     "text": [
      "present\n"
     ]
    }
   ],
   "source": [
    "#In KEYWORD AND LOOPING IN DICTIONARY\n",
    "user1={'name':'rajni',\n",
    "       'lastname':'yadav',\n",
    "       'age':22,\n",
    "       'college':'juit'\n",
    "    }\n",
    "if 'name' in user1:\n",
    "    print(\"present\")\n",
    "else:\n",
    "    print('not present')"
   ]
  },
  {
   "cell_type": "code",
   "execution_count": 45,
   "metadata": {},
   "outputs": [
    {
     "name": "stdout",
     "output_type": "stream",
     "text": [
      "{'name': 'rajni', 'lastname': 'yadav', 'age': 22, 'college': 'juit', 'list1': [1, 2, 3, 4, 5, 6, 7, 8, 9], 'tup1': (1, 2, 3, 4, 5, 6, 7)}\n"
     ]
    }
   ],
   "source": [
    "#we can use list and tuple also as key and values in dictionary\n",
    "user1={'name':'rajni',\n",
    "       'lastname':'yadav',\n",
    "       'age':22,\n",
    "       'college':'juit',\n",
    "       'list1':list(range(1,10)),\n",
    "       'tup1':tuple(range(1,8))\n",
    "    }\n",
    "print(user1)\n",
    "    "
   ]
  },
  {
   "cell_type": "code",
   "execution_count": 46,
   "metadata": {},
   "outputs": [
    {
     "name": "stdout",
     "output_type": "stream",
     "text": [
      "rajni\n",
      "yadav\n",
      "22\n",
      "juit\n"
     ]
    }
   ],
   "source": [
    "#hey how we can print valuse of dictionary by loops\n",
    "# ok don't worry lets see by example\n",
    "user1={'name':'rajni',\n",
    "       'lastname':'yadav',\n",
    "       'age':22,\n",
    "       'college':'juit'\n",
    "    }\n",
    "for i in user1.values():\n",
    "    print(i)"
   ]
  },
  {
   "cell_type": "code",
   "execution_count": 47,
   "metadata": {},
   "outputs": [
    {
     "name": "stdout",
     "output_type": "stream",
     "text": [
      "rajni\n",
      "yadav\n",
      "22\n",
      "juit\n"
     ]
    }
   ],
   "source": [
    "user1={'name':'rajni',\n",
    "       'lastname':'yadav',\n",
    "       'age':22,\n",
    "       'college':'juit'\n",
    "    }\n",
    "for i in user1:\n",
    "    print(user1[i])"
   ]
  },
  {
   "cell_type": "code",
   "execution_count": 48,
   "metadata": {},
   "outputs": [
    {
     "name": "stdout",
     "output_type": "stream",
     "text": [
      "dict_items([('name', 'rajni'), ('lastname', 'yadav'), ('age', 22), ('college', 'juit')])\n"
     ]
    }
   ],
   "source": [
    "user1={'name':'rajni',\n",
    "       'lastname':'yadav',\n",
    "       'age':22,\n",
    "       'college':'juit'\n",
    "    }\n",
    "useritem=user1.items()\n",
    "print(useritem)\n"
   ]
  },
  {
   "cell_type": "code",
   "execution_count": 49,
   "metadata": {},
   "outputs": [
    {
     "name": "stdout",
     "output_type": "stream",
     "text": [
      "('college', 'juit')\n",
      "{'name': 'rajni', 'lastname': 'yadav', 'age': 22}\n"
     ]
    }
   ],
   "source": [
    "#its to work with some usefull dictionary method \n",
    "# 1 popitem\n",
    "popeditem=user1.popitem()\n",
    "print(popeditem)\n",
    "print(user1)"
   ]
  },
  {
   "cell_type": "code",
   "execution_count": 50,
   "metadata": {},
   "outputs": [
    {
     "data": {
      "text/plain": [
       "'A Set is an unordered collection data type that is iterable, mutable, and has no duplicate elements. Python’s set \\n\\nclass represents the mathematical notion of a set. The major advantage of using a set, as opposed to a list, is that \\nit has a highly optimized method for checking whether a specific element is contained in the set. This is based on a\\ndata structure known as a hash table.\\nFrozen Sets Frozen sets are immutable objects that only support methods and operators that produce a result without a?\\necting the frozen set or sets to which they are applied.'"
      ]
     },
     "execution_count": 50,
     "metadata": {},
     "output_type": "execute_result"
    }
   ],
   "source": [
    "\n",
    "#Sets in Python\n",
    "\n",
    "\"\"\"A Set is an unordered collection data type that is iterable, mutable, and has no duplicate elements. Python’s set \n",
    "\n",
    "class represents the mathematical notion of a set. The major advantage of using a set, as opposed to a list, is that \n",
    "it has a highly optimized method for checking whether a specific element is contained in the set. This is based on a\n",
    "data structure known as a hash table.\n",
    "Frozen Sets Frozen sets are immutable objects that only support methods and operators that produce a result without a?\n",
    "ecting the frozen set or sets to which they are applied.\"\"\""
   ]
  },
  {
   "cell_type": "code",
   "execution_count": 51,
   "metadata": {},
   "outputs": [
    {
     "name": "stdout",
     "output_type": "stream",
     "text": [
      "{1, 3, 4, 5.6, 5, 6.667, 't', 'raj', 'w'}\n"
     ]
    }
   ],
   "source": [
    "#SET IN PYTHON\n",
    "\n",
    "\n",
    "s={1,3,4,4,4,5,5.6,6.667,'raj','w','t'}\n",
    "print(s)\n"
   ]
  },
  {
   "cell_type": "code",
   "execution_count": 52,
   "metadata": {},
   "outputs": [
    {
     "name": "stdout",
     "output_type": "stream",
     "text": [
      "{1, 2, 3, 4, 5, 6, 7, 9}\n"
     ]
    }
   ],
   "source": [
    "#hey tell me how to convert list into set ok \n",
    "list1=[1,2,3,4,5,6,7,4,4,4,4,5,5,5,5,6,7,9,9,9]\n",
    "s2=set(list1)\n",
    "print(s2)\n"
   ]
  },
  {
   "cell_type": "code",
   "execution_count": 54,
   "metadata": {},
   "outputs": [
    {
     "name": "stdout",
     "output_type": "stream",
     "text": [
      "{1, 2, 3, 4, 5, 6, 7, 9, 'r'}\n"
     ]
    }
   ],
   "source": [
    "# how add an element to the set\n",
    "#example \n",
    "s2.add('r')\n",
    "print(s2)\n"
   ]
  },
  {
   "cell_type": "code",
   "execution_count": 55,
   "metadata": {},
   "outputs": [
    {
     "name": "stdout",
     "output_type": "stream",
     "text": [
      "{1, 2, 4, 5, 6, 7, 9}\n"
     ]
    }
   ],
   "source": [
    "# how remove an element to the set\n",
    "s={1, 2, 3, 4, 5, 6, 7, 9}\n",
    "s.remove(3)\n",
    "print(s)"
   ]
  },
  {
   "cell_type": "code",
   "execution_count": 56,
   "metadata": {},
   "outputs": [
    {
     "ename": "KeyError",
     "evalue": "6",
     "output_type": "error",
     "traceback": [
      "\u001b[1;31m---------------------------------------------------------------------------\u001b[0m",
      "\u001b[1;31mKeyError\u001b[0m                                  Traceback (most recent call last)",
      "\u001b[1;32m<ipython-input-56-26f0fdab090b>\u001b[0m in \u001b[0;36m<module>\u001b[1;34m\u001b[0m\n\u001b[0;32m      1\u001b[0m \u001b[1;31m#if there is no element present in set then whats happens\u001b[0m\u001b[1;33m\u001b[0m\u001b[1;33m\u001b[0m\u001b[1;33m\u001b[0m\u001b[0m\n\u001b[0;32m      2\u001b[0m \u001b[0ms\u001b[0m\u001b[1;33m=\u001b[0m\u001b[1;33m{\u001b[0m\u001b[1;36m1\u001b[0m\u001b[1;33m,\u001b[0m \u001b[1;36m2\u001b[0m\u001b[1;33m,\u001b[0m \u001b[1;36m3\u001b[0m\u001b[1;33m,\u001b[0m \u001b[1;36m4\u001b[0m\u001b[1;33m,\u001b[0m \u001b[1;36m5\u001b[0m\u001b[1;33m,\u001b[0m \u001b[1;36m7\u001b[0m\u001b[1;33m,\u001b[0m \u001b[1;36m9\u001b[0m\u001b[1;33m}\u001b[0m\u001b[1;33m\u001b[0m\u001b[1;33m\u001b[0m\u001b[0m\n\u001b[1;32m----> 3\u001b[1;33m \u001b[0ms\u001b[0m\u001b[1;33m.\u001b[0m\u001b[0mremove\u001b[0m\u001b[1;33m(\u001b[0m\u001b[1;36m6\u001b[0m\u001b[1;33m)\u001b[0m\u001b[1;33m\u001b[0m\u001b[1;33m\u001b[0m\u001b[0m\n\u001b[0m\u001b[0;32m      4\u001b[0m \u001b[0mprint\u001b[0m\u001b[1;33m(\u001b[0m\u001b[0ms\u001b[0m\u001b[1;33m)\u001b[0m\u001b[1;33m\u001b[0m\u001b[1;33m\u001b[0m\u001b[0m\n",
      "\u001b[1;31mKeyError\u001b[0m: 6"
     ]
    }
   ],
   "source": [
    "#if there is no element present in set then whats happens\n",
    "s={1, 2, 3, 4, 5, 7, 9}\n",
    "s.remove(6)\n",
    "print(s)"
   ]
  },
  {
   "cell_type": "code",
   "execution_count": 57,
   "metadata": {},
   "outputs": [
    {
     "name": "stdout",
     "output_type": "stream",
     "text": [
      "{1, 2, 3, 4, 7, 9}\n"
     ]
    }
   ],
   "source": [
    "# what is differebt between discard and remove  lets see it\n",
    "s={1, 2, 3, 4, 5, 7, 9} \n",
    "s.discard(5)\n",
    "print(s)"
   ]
  },
  {
   "cell_type": "code",
   "execution_count": 59,
   "metadata": {},
   "outputs": [
    {
     "name": "stdout",
     "output_type": "stream",
     "text": [
      "{1, 2, 3, 4, 5, 7, 9}\n"
     ]
    }
   ],
   "source": [
    "#wait wait wait\n",
    "s={1, 2, 3, 4, 5, 7, 9}\n",
    "s.discard(6)\n",
    "print(s)\n",
    "#no error wao"
   ]
  },
  {
   "cell_type": "code",
   "execution_count": 60,
   "metadata": {},
   "outputs": [
    {
     "name": "stdout",
     "output_type": "stream",
     "text": [
      "{'name': 'rajni', 'age': 22, 'branch': 'ece', 'name1': 'raj'}\n"
     ]
    }
   ],
   "source": [
    "\n",
    "user={'name':'rajni','age':22,'branch':'ece'}\n",
    "user['name1']='raj'\n",
    "print(user)\n"
   ]
  },
  {
   "cell_type": "code",
   "execution_count": 61,
   "metadata": {},
   "outputs": [
    {
     "name": "stdout",
     "output_type": "stream",
     "text": [
      "key is  name,  and value is rajni\n",
      "key is  lastname,  and value is yadav\n",
      "key is  age,  and value is 22\n",
      "key is  college,  and value is juit\n"
     ]
    }
   ],
   "source": [
    "user1={'name':'rajni',\n",
    "       'lastname':'yadav',\n",
    "       'age':22,\n",
    "       'college':'juit'\n",
    "    }\n",
    "for key,value in user1.items():\n",
    "    print(f\"key is  {key},  and value is {value}\")"
   ]
  },
  {
   "cell_type": "code",
   "execution_count": 62,
   "metadata": {},
   "outputs": [
    {
     "name": "stdout",
     "output_type": "stream",
     "text": [
      "2000\n",
      "True\n"
     ]
    }
   ],
   "source": [
    "def is_leap(year):\n",
    "    leap = False\n",
    "     # Write your logic here\n",
    "    \n",
    "    if year%4==0 and (year%100!=0 or year%400==0):\n",
    "        return True\n",
    "    \n",
    "    else:    \n",
    "        return leap\n",
    "\n",
    "\n",
    "year = int(input())\n",
    "print(is_leap(year))"
   ]
  },
  {
   "cell_type": "code",
   "execution_count": null,
   "metadata": {},
   "outputs": [],
   "source": [
    "n=int(input())\n",
    "for i in range(1,n+1):\n",
    "    print(i,end=\"\")"
   ]
  },
  {
   "cell_type": "code",
   "execution_count": 65,
   "metadata": {},
   "outputs": [
    {
     "data": {
      "text/plain": [
       "'List comprehensions offer a succinct way to create lists based on existing lists. When using list comprehensions, lists\\ncan be built by leveraging any iterable, including strings and tuples.\\n\\nSyntactically, list comprehensions consist of an iterable containing an expression followed by a for clause. This can \\nbe followed by additional for or if clauses, so familiarity with for loops and conditional statements will help you \\nunderstand list comprehensions better.\\n\\nList comprehensions provide an alternative syntax to creating lists and other sequential data types. While other methods\\nof iteration, such as for loops, can also be used to create lists, list comprehensions may be preferred because they \\ncan limit the number of lines used in your program.'"
      ]
     },
     "execution_count": 65,
     "metadata": {},
     "output_type": "execute_result"
    }
   ],
   "source": [
    "# ITS TO STUDY ABOUT LIST COMPREHENSION\n",
    "\"\"\"List comprehensions offer a succinct way to create lists based on existing lists. When using list comprehensions, lists\n",
    "can be built by leveraging any iterable, including strings and tuples.\n",
    "\n",
    "Syntactically, list comprehensions consist of an iterable containing an expression followed by a for clause. This can \n",
    "be followed by additional for or if clauses, so familiarity with for loops and conditional statements will help you \n",
    "understand list comprehensions better.\n",
    "\n",
    "List comprehensions provide an alternative syntax to creating lists and other sequential data types. While other methods\n",
    "of iteration, such as for loops, can also be used to create lists, list comprehensions may be preferred because they \n",
    "can limit the number of lines used in your program.\"\"\"\n"
   ]
  },
  {
   "cell_type": "code",
   "execution_count": 67,
   "metadata": {},
   "outputs": [],
   "source": [
    "#SYNTAX\n",
    "#WHAT IS LIST COMP ?:::: BY THE HELP OF LIST C0OMPREHENSION WE CAN CREATE LIST IN ONE LINE\n",
    "#  list_variable = [x for x in iterable]\n",
    "#I THINK IT IS BETTER IF WE UNDERSTAND BY EXAMPLE"
   ]
  },
  {
   "cell_type": "code",
   "execution_count": 68,
   "metadata": {},
   "outputs": [
    {
     "name": "stdout",
     "output_type": "stream",
     "text": [
      "[1]\n",
      "[1, 4]\n",
      "[1, 4, 9]\n",
      "[1, 4, 9, 16]\n",
      "[1, 4, 9, 16, 25]\n",
      "[1, 4, 9, 16, 25, 36]\n",
      "[1, 4, 9, 16, 25, 36, 49]\n",
      "[1, 4, 9, 16, 25, 36, 49, 64]\n",
      "[1, 4, 9, 16, 25, 36, 49, 64, 81]\n",
      "[1, 4, 9, 16, 25, 36, 49, 64, 81, 100]\n"
     ]
    }
   ],
   "source": [
    "\n",
    "square=[]\n",
    "for i in range(1,11):\n",
    "    square.append(i**2)\n",
    "    print(square)\n",
    "\n"
   ]
  },
  {
   "cell_type": "code",
   "execution_count": 69,
   "metadata": {},
   "outputs": [
    {
     "name": "stdout",
     "output_type": "stream",
     "text": [
      "[1, 4, 9, 16, 25, 36, 49, 64, 81, 100]\n",
      "\n"
     ]
    }
   ],
   "source": [
    "square=[]\n",
    "for i in range(1,11):\n",
    "    square.append(i**2)\n",
    "    \n",
    "print(f\"{square}\\n\")\n"
   ]
  },
  {
   "cell_type": "code",
   "execution_count": 70,
   "metadata": {},
   "outputs": [
    {
     "name": "stdout",
     "output_type": "stream",
     "text": [
      "[1, 4, 9, 16, 25, 36, 49, 64, 81, 100, 121, 144]\n"
     ]
    }
   ],
   "source": [
    "#by the help of list comperihension\n",
    "square1=[i**2 for i in range(1,13)]\n",
    "print(square1)"
   ]
  },
  {
   "cell_type": "code",
   "execution_count": 71,
   "metadata": {},
   "outputs": [
    {
     "name": "stdout",
     "output_type": "stream",
     "text": [
      "[-1, -2, -3, -4, -5, -6, -7, -8, -9, -10, -11, -12]\n"
     ]
    }
   ],
   "source": [
    "square1=[-i for i in range(1,13)]\n",
    "print(square1)"
   ]
  },
  {
   "cell_type": "code",
   "execution_count": 72,
   "metadata": {},
   "outputs": [
    {
     "name": "stdout",
     "output_type": "stream",
     "text": [
      "[1, 2, 3, 4, 5, 6, 7, 8, 9, 10, 11, 12]\n"
     ]
    }
   ],
   "source": [
    "square1=[i for i in range(1,13)]\n",
    "print(square1)"
   ]
  },
  {
   "cell_type": "code",
   "execution_count": 73,
   "metadata": {},
   "outputs": [
    {
     "name": "stdout",
     "output_type": "stream",
     "text": [
      "['rajni', 'kant', 'yadav']\n"
     ]
    }
   ],
   "source": [
    "name=['rajni','kant','yadav']\n",
    "newlist=[i for i in name]\n",
    "print(newlist)"
   ]
  },
  {
   "cell_type": "code",
   "execution_count": 75,
   "metadata": {},
   "outputs": [
    {
     "name": "stdout",
     "output_type": "stream",
     "text": [
      "[2, 4, 6, 8, 10]\n"
     ]
    }
   ],
   "source": [
    "#LIST COMPREHENSION WITH IF ELSE STATEMENT \n",
    "\n",
    "even_number=[i for i in range(1,11) if i%2 == 0]\n",
    "print(even_number)"
   ]
  },
  {
   "cell_type": "code",
   "execution_count": 76,
   "metadata": {},
   "outputs": [
    {
     "name": "stdout",
     "output_type": "stream",
     "text": [
      "[-1, 4, -3, 8, -5, 12, -7, 16, -9, 20]\n"
     ]
    }
   ],
   "source": [
    "new_list=[i*2 if (i%2==0) else-i for i in range(1,11)]\n",
    "print(new_list)"
   ]
  },
  {
   "cell_type": "code",
   "execution_count": 77,
   "metadata": {},
   "outputs": [
    {
     "data": {
      "text/plain": [
       "'Like List Comprehension, Python allows dictionary comprehensions. We can create dictionaries using simple expressions.\\nA dictionary comprehension takes the form {key: value for (key, value) in iterable}'"
      ]
     },
     "execution_count": 77,
     "metadata": {},
     "output_type": "execute_result"
    }
   ],
   "source": [
    "#DICTIONARY COMPREHENSION\n",
    "\"\"\"Like List Comprehension, Python allows dictionary comprehensions. We can create dictionaries using simple expressions.\n",
    "A dictionary comprehension takes the form {key: value for (key, value) in iterable}\"\"\"\n"
   ]
  },
  {
   "cell_type": "code",
   "execution_count": 78,
   "metadata": {},
   "outputs": [
    {
     "name": "stdout",
     "output_type": "stream",
     "text": [
      "{'square of num is': 100}\n"
     ]
    }
   ],
   "source": [
    "square={f\"square of num is\":num**2 for num in range(1,11)}\n",
    "print(square)\n"
   ]
  },
  {
   "cell_type": "code",
   "execution_count": 79,
   "metadata": {},
   "outputs": [
    {
     "name": "stdout",
     "output_type": "stream",
     "text": [
      "{1: 'odd', 2: 'even', 3: 'odd', 4: 'even', 5: 'odd', 6: 'even', 7: 'odd', 8: 'even', 9: 'odd', 10: 'even'}\n"
     ]
    }
   ],
   "source": [
    "even_odd={i:('even' if i%2==0 else 'odd') for i in range(1,11)}\n",
    "print(even_odd)"
   ]
  },
  {
   "cell_type": "code",
   "execution_count": 10,
   "metadata": {},
   "outputs": [
    {
     "data": {
      "text/plain": [
       "\"In Python, a lambda function is a single-line function declared with no name, which can have any number of arguments,\\nbut it can only have one expression. Such a function is capable of behaving similarly to a regular function declared using \\nthe Python's def keyword.\\n\\nA lambda function is a small anonymous function.\\n\\nA lambda function can take any number of arguments, but can only have one expression.\\n\\nWhy Use Lambda Functions?\\n\\nThe power of lambda is better shown when you use them as an anonymous function inside another function.\\n\\nSay you have a function definition that takes one argument, and that argument will be multiplied with an unknown number\\n:\\n\\n\""
      ]
     },
     "execution_count": 10,
     "metadata": {},
     "output_type": "execute_result"
    }
   ],
   "source": [
    "#lets study some useful function(method)\n",
    "#1  #LAMBADA EXPRESSION  ANONYMOUS FUNCTION\n",
    "# what is  lambda ?\n",
    "\"\"\"In Python, a lambda function is a single-line function declared with no name, which can have any number of arguments,\n",
    "but it can only have one expression. Such a function is capable of behaving similarly to a regular function declared using \n",
    "the Python's def keyword.\n",
    "\n",
    "A lambda function is a small anonymous function.\n",
    "\n",
    "A lambda function can take any number of arguments, but can only have one expression.\n",
    "\n",
    "Why Use Lambda Functions?\n",
    "\n",
    "The power of lambda is better shown when you use them as an anonymous function inside another function.\n",
    "\n",
    "Say you have a function definition that takes one argument, and that argument will be multiplied with an unknown number\n",
    ":\n",
    "\n",
    "\"\"\""
   ]
  },
  {
   "cell_type": "code",
   "execution_count": 9,
   "metadata": {},
   "outputs": [
    {
     "name": "stdout",
     "output_type": "stream",
     "text": [
      "5\n"
     ]
    }
   ],
   "source": [
    "add2=lambda a,b:a+b\n",
    "print(add2(2,3))"
   ]
  },
  {
   "cell_type": "code",
   "execution_count": 11,
   "metadata": {},
   "outputs": [
    {
     "name": "stdout",
     "output_type": "stream",
     "text": [
      "22\n"
     ]
    }
   ],
   "source": [
    "#Example\n",
    "def myfunc(n):\n",
    "    return lambda a : a * n\n",
    "\n",
    "mydoubler = myfunc(2)\n",
    "\n",
    "print(mydoubler(11))"
   ]
  },
  {
   "cell_type": "code",
   "execution_count": 12,
   "metadata": {},
   "outputs": [
    {
     "name": "stdout",
     "output_type": "stream",
     "text": [
      "22\n",
      "33\n"
     ]
    }
   ],
   "source": [
    "def myfunc(n):\n",
    "    return lambda a : a * n\n",
    "\n",
    "mydoubler = myfunc(2)\n",
    "mytripler = myfunc(3)\n",
    "\n",
    "print(mydoubler(11))\n",
    "print(mytripler(11))"
   ]
  },
  {
   "cell_type": "code",
   "execution_count": 13,
   "metadata": {},
   "outputs": [
    {
     "data": {
      "text/plain": [
       "'A lot of times when dealing with iterators, we also get a need to keep a count of iterations. Python eases the \\nprogrammers’ task by providing a built-in function enumerate() for this task.\\nEnumerate() method adds a counter to an iterable and returns it in a form of enumerate object. This enumerate object \\ncan then be used directly in for loops or be converted into a list of tuples using list() method.\\n\\nSyntax:\\n\\nenumerate(iterable, start=0)\\n\\nParameters:\\nIterable: any object that supports iteration\\nStart: the index value from which the counter is \\n              to be started, by default it is 0 '"
      ]
     },
     "execution_count": 13,
     "metadata": {},
     "output_type": "execute_result"
    }
   ],
   "source": [
    "#enumerate function\n",
    "\n",
    "\"\"\"A lot of times when dealing with iterators, we also get a need to keep a count of iterations. Python eases the \n",
    "programmers’ task by providing a built-in function enumerate() for this task.\n",
    "Enumerate() method adds a counter to an iterable and returns it in a form of enumerate object. This enumerate object \n",
    "can then be used directly in for loops or be converted into a list of tuples using list() method.\n",
    "\n",
    "Syntax:\n",
    "\n",
    "enumerate(iterable, start=0)\n",
    "\n",
    "Parameters:\n",
    "Iterable: any object that supports iteration\n",
    "Start: the index value from which the counter is \n",
    "              to be started, by default it is 0 \"\"\""
   ]
  },
  {
   "cell_type": "code",
   "execution_count": 17,
   "metadata": {},
   "outputs": [
    {
     "name": "stdout",
     "output_type": "stream",
     "text": [
      "Return type: <class 'enumerate'>\n",
      "[(0, 'eat'), (1, 'sleep'), (2, 'repeat')]\n",
      "[(2, 'g'), (3, 'e'), (4, 'e'), (5, 'k')]\n"
     ]
    }
   ],
   "source": [
    "\n",
    "# Python program to illustrate \n",
    "# enumerate function \n",
    "l1 = [\"eat\",\"sleep\",\"repeat\"] \n",
    "s1 = \"geek\"\n",
    "  \n",
    "# creating enumerate objects \n",
    "obj1 = enumerate(l1) \n",
    "obj2 = enumerate(s1) \n",
    "  \n",
    "print(\"Return type:\",type(obj1)) \n",
    "print(list(enumerate(l1)))\n",
    "  \n",
    "# changing start index to 2 from 0 \n",
    "print (list(enumerate(s1,2))) \n"
   ]
  },
  {
   "cell_type": "code",
   "execution_count": 18,
   "metadata": {},
   "outputs": [
    {
     "name": "stdout",
     "output_type": "stream",
     "text": [
      "0 ---->abc\n",
      "1 ---->abcdef\n",
      "2 ---->rajnikant\n"
     ]
    }
   ],
   "source": [
    "names=['abc','abcdef','rajnikant']\n",
    "for pos,name in enumerate(names):\n",
    "    print(f\"{pos} ---->{name}\")"
   ]
  },
  {
   "cell_type": "code",
   "execution_count": 1,
   "metadata": {},
   "outputs": [],
   "source": [
    "# Python | Difference between iterable and iterator. Iterable is an object, which one can iterate over. It generates an \n",
    "# Iterator when passed to iter() method. Iterator is an object, which is used to iterate over an iterable object \n",
    "# using __next__() method."
   ]
  },
  {
   "cell_type": "code",
   "execution_count": 2,
   "metadata": {},
   "outputs": [
    {
     "data": {
      "text/plain": [
       "'\\nPython map() function is used to apply a function on all the elements of specified iterable and return map object.\\nPython map object is an iterator, so we can iterate over its elements. We can also convert map object to sequence \\nobjects such as list, tuple etc.'"
      ]
     },
     "execution_count": 2,
     "metadata": {},
     "output_type": "execute_result"
    }
   ],
   "source": [
    "#map function\n",
    "\"\"\"\n",
    "Python map() function is used to apply a function on all the elements of specified iterable and return map object.\n",
    "Python map object is an iterator, so we can iterate over its elements. We can also convert map object to sequence \n",
    "objects such as list, tuple etc.\"\"\""
   ]
  },
  {
   "cell_type": "code",
   "execution_count": 3,
   "metadata": {},
   "outputs": [
    {
     "name": "stdout",
     "output_type": "stream",
     "text": [
      "[1, 4, 9, 16]\n"
     ]
    }
   ],
   "source": [
    "#example\n",
    "numbers=[1,2,3,4]\n",
    "squares=list(map(lambda a:a**2,numbers))\n",
    "print(squares)"
   ]
  },
  {
   "cell_type": "code",
   "execution_count": 4,
   "metadata": {},
   "outputs": [
    {
     "data": {
      "text/plain": [
       "'map() function returns a list of the results after applying the given function to each item of a given \\niterable (list, tuple etc.)\\n\\nSyntax :\\n\\nmap(fun, iter)\\n\\nParameters :\\n\\n\\n    fun : It is a function to which map passes each element of given iterable.\\n    iter : It is a iterable which is to be mapped. \\n\\nNOTE : You can pass one or more iterable to the map() function.\\n\\nReturns :\\n\\nReturns a list of the results after applying the given function  \\nto each item of a given iterable (list, tuple etc.) \\n\\n \\nNOTE : The returned value from map() (map object) then can be passed to functions like list() (to create a list), \\nset() (to create a set) .'"
      ]
     },
     "execution_count": 4,
     "metadata": {},
     "output_type": "execute_result"
    }
   ],
   "source": [
    "\"\"\"map() function returns a list of the results after applying the given function to each item of a given \n",
    "iterable (list, tuple etc.)\n",
    "\n",
    "Syntax :\n",
    "\n",
    "map(fun, iter)\n",
    "\n",
    "Parameters :\n",
    "\n",
    "\n",
    "    fun : It is a function to which map passes each element of given iterable.\n",
    "    iter : It is a iterable which is to be mapped. \n",
    "\n",
    "NOTE : You can pass one or more iterable to the map() function.\n",
    "\n",
    "Returns :\n",
    "\n",
    "Returns a list of the results after applying the given function  \n",
    "to each item of a given iterable (list, tuple etc.) \n",
    "\n",
    " \n",
    "NOTE : The returned value from map() (map object) then can be passed to functions like list() (to create a list), \n",
    "set() (to create a set) .\"\"\""
   ]
  },
  {
   "cell_type": "code",
   "execution_count": 5,
   "metadata": {},
   "outputs": [
    {
     "name": "stdout",
     "output_type": "stream",
     "text": [
      "[2, 4, 6, 8]\n"
     ]
    }
   ],
   "source": [
    "\n",
    "# Python program to demonstrate working \n",
    "# of map. \n",
    "  \n",
    "# Return double of n \n",
    "def addition(n): \n",
    "    return n + n \n",
    "  \n",
    "# We double all numbers using map() \n",
    "numbers = (1, 2, 3, 4) \n",
    "result = map(addition, numbers) \n",
    "print(list(result)) \n"
   ]
  },
  {
   "cell_type": "code",
   "execution_count": 7,
   "metadata": {},
   "outputs": [
    {
     "data": {
      "text/plain": [
       "' Definition and Usage\\n\\nThe zip() function returns a zip object, which is an iterator of tuples where the first item in each passed iterator is paired together, and then the second item in each passed iterator are paired together etc.\\n\\nIf the passed iterators have different lengths, the iterator with the least items decides the length of the new iterator.\\nSyntax\\nzip(iterator1, iterator2, iterator3 ...)\\nParameter Values\\n    Parameter                                   \\tDescription\\niterator1, iterator2, iterator3 ...         \\tIterator objects that will be joined together\\n\\n\\n\\nThe purpose of zip() is to map the similar index of multiple containers so that they can be used just using as single\\nentity.\\n\\n    Syntax :\\n    zip(*iterators)\\n    Parameters :\\n    Python iterables or containers ( list, string etc )\\n    Return Value :\\n    Returns a single iterator object, having mapped values from all the\\n    containers.\\n\\n\\n\\n'"
      ]
     },
     "execution_count": 7,
     "metadata": {},
     "output_type": "execute_result"
    }
   ],
   "source": [
    "#ZIP FUNCTION\n",
    "\"\"\" Definition and Usage\n",
    "\n",
    "The zip() function returns a zip object, which is an iterator of tuples where the first item in each passed iterator is paired together, and then the second item in each passed iterator are paired together etc.\n",
    "\n",
    "If the passed iterators have different lengths, the iterator with the least items decides the length of the new iterator.\n",
    "Syntax\n",
    "zip(iterator1, iterator2, iterator3 ...)\n",
    "Parameter Values\n",
    "    Parameter                                   \tDescription\n",
    "iterator1, iterator2, iterator3 ...         \tIterator objects that will be joined together\n",
    "\n",
    "\n",
    "\n",
    "The purpose of zip() is to map the similar index of multiple containers so that they can be used just using as single\n",
    "entity.\n",
    "\n",
    "    Syntax :\n",
    "    zip(*iterators)\n",
    "    Parameters :\n",
    "    Python iterables or containers ( list, string etc )\n",
    "    Return Value :\n",
    "    Returns a single iterator object, having mapped values from all the\n",
    "    containers.\n",
    "\n",
    "\n",
    "\n",
    "\"\"\""
   ]
  },
  {
   "cell_type": "code",
   "execution_count": 8,
   "metadata": {},
   "outputs": [
    {
     "name": "stdout",
     "output_type": "stream",
     "text": [
      "The zipped result is : {('Shambhavi', 3, 60), ('Nikhil', 1, 50), ('Manjeet', 4, 40), ('Astha', 2, 70)}\n"
     ]
    }
   ],
   "source": [
    "\n",
    "# Python code to demonstrate the working of  \n",
    "# zip() \n",
    "  \n",
    "# initializing lists \n",
    "name = [ \"Manjeet\", \"Nikhil\", \"Shambhavi\", \"Astha\" ] \n",
    "roll_no = [ 4, 1, 3, 2 ] \n",
    "marks = [ 40, 50, 60, 70 ] \n",
    "  \n",
    "# using zip() to map values \n",
    "mapped = zip(name, roll_no, marks) \n",
    "  \n",
    "# converting values to print as set \n",
    "mapped = set(mapped) \n",
    "  \n",
    "# printing resultant values  \n",
    "print (\"The zipped result is : \",end=\"\") \n",
    "print (mapped) \n"
   ]
  },
  {
   "cell_type": "code",
   "execution_count": 10,
   "metadata": {},
   "outputs": [
    {
     "name": "stdout",
     "output_type": "stream",
     "text": [
      "<zip object at 0x000002AB55463488>\n"
     ]
    }
   ],
   "source": [
    "\n",
    "user_id=['user1','user2','user3'] \n",
    "names=['rajni','kant','yadav']\n",
    "print(zip(user_id,names))"
   ]
  },
  {
   "cell_type": "code",
   "execution_count": 11,
   "metadata": {},
   "outputs": [
    {
     "name": "stdout",
     "output_type": "stream",
     "text": [
      "[('user1', 'rajni'), ('user2', 'kant'), ('user3', 'yadav')]\n"
     ]
    }
   ],
   "source": [
    "user_id=['user1','user2','user3'] \n",
    "names=['rajni','kant','yadav']\n",
    "print(list(zip(user_id,names)))"
   ]
  },
  {
   "cell_type": "code",
   "execution_count": 12,
   "metadata": {},
   "outputs": [
    {
     "name": "stdout",
     "output_type": "stream",
     "text": [
      "{'user1': 'rajni', 'user2': 'kant', 'user3': 'yadav'}\n"
     ]
    }
   ],
   "source": [
    "user_id=['user1','user2','user3'] \n",
    "names=['rajni','kant','yadav']\n",
    "print(dict(zip(user_id,names)))"
   ]
  },
  {
   "cell_type": "code",
   "execution_count": 13,
   "metadata": {},
   "outputs": [
    {
     "name": "stdout",
     "output_type": "stream",
     "text": [
      "(1, 3, 5, 7)\n",
      "(2, 4, 6, 8)\n"
     ]
    }
   ],
   "source": [
    "l=[(1,2),(3,4),(5,6),(7,8)]\n",
    "l1,l2=list(zip(*l))\n",
    "print(l1)\n",
    "print(l2)"
   ]
  },
  {
   "cell_type": "code",
   "execution_count": 14,
   "metadata": {},
   "outputs": [
    {
     "name": "stdout",
     "output_type": "stream",
     "text": [
      "[1, 3, 5, 7]\n",
      "[2, 4, 6, 8]\n"
     ]
    }
   ],
   "source": [
    "l=[(1,2),(3,4),(5,6),(7,8)]\n",
    "l1,l2=list(zip(*l))\n",
    "print(list(l1))\n",
    "print(list(l2))"
   ]
  },
  {
   "cell_type": "code",
   "execution_count": 15,
   "metadata": {},
   "outputs": [
    {
     "name": "stdout",
     "output_type": "stream",
     "text": [
      "Return the number of items in a container.\n"
     ]
    }
   ],
   "source": [
    "#DOC STRING\n",
    "print(len.__doc__)"
   ]
  },
  {
   "cell_type": "code",
   "execution_count": 16,
   "metadata": {},
   "outputs": [
    {
     "name": "stdout",
     "output_type": "stream",
     "text": [
      "Return the sum of a 'start' value (default: 0) plus an iterable of numbers\n",
      "\n",
      "When the iterable is empty, return the start value.\n",
      "This function is intended specifically for use with numeric values and may\n",
      "reject non-numeric types.\n"
     ]
    }
   ],
   "source": [
    "print(sum.__doc__)"
   ]
  },
  {
   "cell_type": "code",
   "execution_count": 17,
   "metadata": {},
   "outputs": [
    {
     "name": "stdout",
     "output_type": "stream",
     "text": [
      "this function takes 2 numbers and return their sum \n"
     ]
    }
   ],
   "source": [
    "def add(a,b):\n",
    "    'this function takes 2 numbers and return their sum '\n",
    "    return a+b\n",
    "\n",
    "print(add.__doc__)"
   ]
  },
  {
   "cell_type": "code",
   "execution_count": null,
   "metadata": {},
   "outputs": [],
   "source": []
  },
  {
   "cell_type": "code",
   "execution_count": null,
   "metadata": {},
   "outputs": [],
   "source": []
  },
  {
   "cell_type": "code",
   "execution_count": null,
   "metadata": {},
   "outputs": [],
   "source": []
  },
  {
   "cell_type": "code",
   "execution_count": null,
   "metadata": {},
   "outputs": [],
   "source": []
  },
  {
   "cell_type": "code",
   "execution_count": null,
   "metadata": {},
   "outputs": [],
   "source": []
  },
  {
   "cell_type": "code",
   "execution_count": null,
   "metadata": {},
   "outputs": [],
   "source": []
  },
  {
   "cell_type": "code",
   "execution_count": null,
   "metadata": {},
   "outputs": [],
   "source": []
  },
  {
   "cell_type": "code",
   "execution_count": null,
   "metadata": {},
   "outputs": [],
   "source": []
  },
  {
   "cell_type": "code",
   "execution_count": null,
   "metadata": {},
   "outputs": [],
   "source": []
  },
  {
   "cell_type": "code",
   "execution_count": null,
   "metadata": {},
   "outputs": [],
   "source": []
  },
  {
   "cell_type": "code",
   "execution_count": null,
   "metadata": {},
   "outputs": [],
   "source": []
  },
  {
   "cell_type": "code",
   "execution_count": null,
   "metadata": {},
   "outputs": [],
   "source": []
  },
  {
   "cell_type": "code",
   "execution_count": null,
   "metadata": {},
   "outputs": [],
   "source": []
  },
  {
   "cell_type": "code",
   "execution_count": 18,
   "metadata": {},
   "outputs": [
    {
     "data": {
      "text/plain": [
       "' Object-oriented programming – As the name suggests uses objects in programming. Object-oriented programming aims \\nto implement real-world entities like inheritance, hiding, polymorphism, etc in programming. The main aim of OOP is to \\nbind together the data and the functions that operate on them so that no other part of the code can access this data \\nexcept that function.'"
      ]
     },
     "execution_count": 18,
     "metadata": {},
     "output_type": "execute_result"
    }
   ],
   "source": [
    "#now finaly its to learn opps(object oriented programing)\n",
    "# hey what is this ?\n",
    "#DEFFINTION \n",
    "\"\"\" Object-oriented programming – As the name suggests uses objects in programming. Object-oriented programming aims \n",
    "to implement real-world entities like inheritance, hiding, polymorphism, etc in programming. The main aim of OOP is to \n",
    "bind together the data and the functions that operate on them so that no other part of the code can access this data \n",
    "except that function.\"\"\""
   ]
  },
  {
   "cell_type": "code",
   "execution_count": 19,
   "metadata": {},
   "outputs": [
    {
     "data": {
      "text/plain": [
       "'A class is a blueprint for the object.\\n\\nWe can think of class as an sketch of a parrot with labels. It contains all the details about the name, colors, size\\netc. Based on these descriptions, we can study about the parrot. Here, parrot is an object.\\n\\nThe example for class of parrot can be :\\n\\nclass Parrot:\\n    pass\\n\\nHere, we use class keyword to define an empty class Parrot. From class, we construct instances. An instance is a \\nspecific object created from a particular class.'"
      ]
     },
     "execution_count": 19,
     "metadata": {},
     "output_type": "execute_result"
    }
   ],
   "source": [
    "# Class\n",
    "\n",
    "\"\"\"A class is a blueprint for the object.\n",
    "\n",
    "We can think of class as an sketch of a parrot with labels. It contains all the details about the name, colors, size\n",
    "etc. Based on these descriptions, we can study about the parrot. Here, parrot is an object.\n",
    "\n",
    "The example for class of parrot can be :\n",
    "\n",
    "class Parrot:\n",
    "    pass\n",
    "\n",
    "Here, we use class keyword to define an empty class Parrot. From class, we construct instances. An instance is a \n",
    "specific object created from a particular class.\"\"\""
   ]
  },
  {
   "cell_type": "code",
   "execution_count": 20,
   "metadata": {},
   "outputs": [
    {
     "data": {
      "text/plain": [
       "'An object (instance) is an instantiation of a class. When class is defined, only the description for the object is \\ndefined. Therefore, no memory or storage is allocated.\\n\\nThe example for object of parrot class can be:\\n\\nobj = Parrot()\\n\\nHere, obj is object of class Parrot.\\n\\nSuppose we have details of parrot. Now, we are going to show how to build the class and objects of parrot.'"
      ]
     },
     "execution_count": 20,
     "metadata": {},
     "output_type": "execute_result"
    }
   ],
   "source": [
    "#Object\n",
    "\n",
    "\"\"\"An object (instance) is an instantiation of a class. When class is defined, only the description for the object is \n",
    "defined. Therefore, no memory or storage is allocated.\n",
    "\n",
    "The example for object of parrot class can be:\n",
    "\n",
    "obj = Parrot()\n",
    "\n",
    "Here, obj is object of class Parrot.\n",
    "\n",
    "Suppose we have details of parrot. Now, we are going to show how to build the class and objects of parrot.\"\"\""
   ]
  },
  {
   "cell_type": "code",
   "execution_count": 22,
   "metadata": {},
   "outputs": [
    {
     "data": {
      "text/plain": [
       "'The __init__ method is similar to constructors in C++ and Java. It is run as soon as an object of a class is \\ninstantiated. The method is useful to do any initialization you want to do with your object. '"
      ]
     },
     "execution_count": 22,
     "metadata": {},
     "output_type": "execute_result"
    }
   ],
   "source": [
    "# The self\n",
    "\n",
    "\"\"\" Class methods must have an extra first parameter in method definition. We do not give a value for this \n",
    "   parameter when we call the method, Python provides it\n",
    "    If we have a method which takes no arguments, then we still have to have one argument – the self. See fun() in\n",
    "    above simple example.\n",
    "    This is similar to this pointer in C++ and this reference in Java.\n",
    "\n",
    "When we call a method of this object as myobject.method(arg1, arg2), this is automatically converted by Python into \n",
    "MyClass.method(myobject, arg1, arg2) – this is all the special self is about.\"\"\"\n",
    "\n",
    " \n",
    "\n",
    "# The __init__ method\n",
    "\n",
    "\"\"\"The __init__ method is similar to constructors in C++ and Java. It is run as soon as an object of a class is \n",
    "instantiated. The method is useful to do any initialization you want to do with your object. \"\"\""
   ]
  },
  {
   "cell_type": "code",
   "execution_count": 12,
   "metadata": {},
   "outputs": [
    {
     "name": "stdout",
     "output_type": "stream",
     "text": [
      "22 rajnikant\n",
      " Hello, my name is Shwetanshu and my age is 20\n"
     ]
    }
   ],
   "source": [
    "# Example 1: Creating Class and Object in Python\n",
    "\n",
    "# A Sample class with init method \n",
    "class Person: \n",
    "  \n",
    "    # init method or constructor  \n",
    "    def __init__(self, name,age): \n",
    "        self.name = name \n",
    "        self.age=age\n",
    "  \n",
    "    # Sample Method  \n",
    "    def say_hi(self): \n",
    "        print(f\" Hello, my name is {self.name} and my age is {self.age}\") \n",
    "  \n",
    "p1=Person('rajnikant',22)\n",
    "p = Person('Shwetanshu',20) \n",
    "print(f\"{p1.age} {p1.name}\")\n",
    "p.say_hi() \n",
    "#Here, we define the __init__ method as taking a parameter name (along with the usual self). "
   ]
  },
  {
   "cell_type": "code",
   "execution_count": 13,
   "metadata": {},
   "outputs": [
    {
     "data": {
      "text/plain": [
       "' \\nClass or static variables are shared by all objects. Instance or non-static variables are different for different \\nobjects (every object has a copy of it).\\n\\nFor example, let a Computer Science Student be represented by class CSStudent. The class may have a static variable \\nwhose value is “cse” for all objects. And class may also have non-static members like name and roll.\\n\\nIn C++ and Java, we can use static keyword to make a variable as class variable. The variables which don’t have \\n\\n\\npreceding static keyword are instance variables. See this for Java example and this for C++ example.\\n\\n\\nThe Python approach is simple, it doesn’t require a static keyword. All variables which are assigned a value in class \\ndeclaration are class variables. And variables which are assigned values inside class methods are instance variables.'"
      ]
     },
     "execution_count": 13,
     "metadata": {},
     "output_type": "execute_result"
    }
   ],
   "source": [
    "# Class or Static Variables in Python\n",
    "\"\"\" \n",
    "Class or static variables are shared by all objects. Instance or non-static variables are different for different \n",
    "objects (every object has a copy of it).\n",
    "\n",
    "For example, let a Computer Science Student be represented by class CSStudent. The class may have a static variable \n",
    "whose value is “cse” for all objects. And class may also have non-static members like name and roll.\n",
    "\n",
    "In C++ and Java, we can use static keyword to make a variable as class variable. The variables which don’t have \n",
    "\n",
    "\n",
    "preceding static keyword are instance variables. See this for Java example and this for C++ example.\n",
    "\n",
    "\n",
    "The Python approach is simple, it doesn’t require a static keyword. All variables which are assigned a value in class \n",
    "declaration are class variables. And variables which are assigned values inside class methods are instance variables.\"\"\"\n"
   ]
  },
  {
   "cell_type": "code",
   "execution_count": 14,
   "metadata": {},
   "outputs": [
    {
     "name": "stdout",
     "output_type": "stream",
     "text": [
      "cse\n",
      "cse\n",
      "Geek\n",
      "Nerd\n",
      "1\n",
      "2\n",
      "cse\n"
     ]
    }
   ],
   "source": [
    "# exmaple\n",
    "\n",
    "# Python program to show that the variables with a value  \n",
    "# assigned in class declaration, are class variables \n",
    "  \n",
    "# Class for Computer Science Student \n",
    "class CSStudent: \n",
    "    stream = 'cse'                  # Class Variable \n",
    "    def __init__(self,name,roll): \n",
    "        self.name = name            # Instance Variable \n",
    "        self.roll = roll            # Instance Variable \n",
    "  \n",
    "# Objects of CSStudent class \n",
    "a = CSStudent('Geek', 1) \n",
    "b = CSStudent('Nerd', 2) \n",
    "  \n",
    "print(a.stream)  # prints \"cse\" \n",
    "print(b.stream)  # prints \"cse\" \n",
    "print(a.name)    # prints \"Geek\" \n",
    "print(b.name)    # prints \"Nerd\" \n",
    "print(a.roll)    # prints \"1\" \n",
    "print(b.roll)    # prints \"2\" \n",
    "  \n",
    "# Class variables can be accessed using class \n",
    "# name also \n",
    "print(CSStudent.stream) # prints \"cse\" \n"
   ]
  },
  {
   "cell_type": "code",
   "execution_count": null,
   "metadata": {},
   "outputs": [],
   "source": []
  },
  {
   "cell_type": "code",
   "execution_count": 30,
   "metadata": {},
   "outputs": [
    {
     "name": "stdout",
     "output_type": "stream",
     "text": [
      "enter the radius of circle5\n",
      "31.400000000000002\n"
     ]
    }
   ],
   "source": [
    "#example\n",
    "class Circle:\n",
    "    pi=3.14  #class variable\n",
    "    def __init__(self,radius):\n",
    "        self.radius=radius\n",
    "\n",
    "    def calc_circumference(self):\n",
    "                circumferenece=2* Circle.pi*self.radius\n",
    "                return circumferenece \n",
    "\n",
    "r=int(input(\"enter the radius of circle\"))\n",
    "c=Circle(r)\n",
    "print(c.calc_circumference())\n",
    "    "
   ]
  },
  {
   "cell_type": "code",
   "execution_count": 37,
   "metadata": {},
   "outputs": [
    {
     "name": "stdout",
     "output_type": "stream",
     "text": [
      "22 rajnikant\n",
      "2\n",
      "{'name': 'Shwetanshu', 'age': 20}\n",
      "{'__module__': '__main__', 'count': 2, '__init__': <function Person.__init__ at 0x000002AFD2E3C7B8>, 'say_hi': <function Person.say_hi at 0x000002AFD2E3C0D0>, '__dict__': <attribute '__dict__' of 'Person' objects>, '__weakref__': <attribute '__weakref__' of 'Person' objects>, '__doc__': None}\n"
     ]
    }
   ],
   "source": [
    "class Person: \n",
    "  \n",
    "    # init method or constructor \n",
    "    count=0\n",
    "    def __init__(self, name,age): \n",
    "        Person.count += 1\n",
    "        self.name = name \n",
    "        self.age=age\n",
    "  \n",
    "    # Sample Method  \n",
    "    def say_hi(self): \n",
    "        print(f\" Hello, my name is {self.name} and my age is {self.age}\") \n",
    "  \n",
    "p1=Person('rajnikant',22)\n",
    "p =Person('Shwetanshu',20) \n",
    "print(f\"{p1.age} {p1.name}\")\n",
    "print(Person.count)\n",
    "print(p.__dict__)\n",
    "print(Person.__dict__)"
   ]
  },
  {
   "cell_type": "code",
   "execution_count": 38,
   "metadata": {},
   "outputs": [
    {
     "data": {
      "text/plain": [
       "'\\n\\nA class method is a method which is bound to the class and not the object of the class.\\nThey have the access to the state of the class as it takes a class parameter that points to the class and not the \\nobject instance.\\nIt can modify a class state that would apply across all the instances of the class. For example it can modify a \\nclass variable that will be applicable to all the instances.\\n\\nThe @classmethod decorator, is a builtin function decorator that is an expression that gets evaluated after your function is defined. The result of that evaluation shadows your function definition.\\nA class method receives the class as implicit first argument, just like an instance method receives the instance\\nSyntax:\\n\\nclass C(object):\\n    @classmethod\\n    def fun(cls, arg1, arg2, ...):\\n       ....\\nfun: function that needs to be converted into a class method\\nreturns: a class method for function.\\n\\n\\n'"
      ]
     },
     "execution_count": 38,
     "metadata": {},
     "output_type": "execute_result"
    }
   ],
   "source": [
    "#class method\n",
    "\"\"\"\n",
    "\n",
    "A class method is a method which is bound to the class and not the object of the class.\n",
    "They have the access to the state of the class as it takes a class parameter that points to the class and not the \n",
    "object instance.\n",
    "It can modify a class state that would apply across all the instances of the class. For example it can modify a \n",
    "class variable that will be applicable to all the instances.\n",
    "\n",
    "The @classmethod decorator, is a builtin function decorator that is an expression that gets evaluated after your function is defined. The result of that evaluation shadows your function definition.\n",
    "A class method receives the class as implicit first argument, just like an instance method receives the instance\n",
    "Syntax:\n",
    "\n",
    "class C(object):\n",
    "    @classmethod\n",
    "    def fun(cls, arg1, arg2, ...):\n",
    "       ....\n",
    "fun: function that needs to be converted into a class method\n",
    "returns: a class method for function.\n",
    "\n",
    "\n",
    "\"\"\"\n",
    "\n"
   ]
  },
  {
   "cell_type": "code",
   "execution_count": 39,
   "metadata": {},
   "outputs": [
    {
     "name": "stdout",
     "output_type": "stream",
     "text": [
      "21\n",
      "24\n",
      "True\n"
     ]
    }
   ],
   "source": [
    "\n",
    "# Python program to demonstrate  \n",
    "# use of class method and static method. \n",
    "from datetime import date \n",
    "  \n",
    "class Person: \n",
    "    def __init__(self, name, age): \n",
    "        self.name = name \n",
    "        self.age = age \n",
    "      \n",
    "    # a class method to create a  \n",
    "    # Person object by birth year. \n",
    "    @classmethod\n",
    "    def fromBirthYear(cls, name, year): \n",
    "        return cls(name, date.today().year - year) \n",
    "      \n",
    "    # a static method to check if a \n",
    "    # Person is adult or not. \n",
    "    @staticmethod\n",
    "    def isAdult(age): \n",
    "        return age > 18\n",
    "  \n",
    "person1 = Person('mayank', 21) \n",
    "person2 = Person.fromBirthYear('mayank', 1996) \n",
    "  \n",
    "print (person1.age) \n",
    "print (person2.age) \n",
    "  \n",
    "# print the result \n",
    "print (Person.isAdult(22)) \n"
   ]
  },
  {
   "cell_type": "code",
   "execution_count": 1,
   "metadata": {},
   "outputs": [
    {
     "data": {
      "text/plain": [
       "'\\nEncapsulation is one of the fundamental concepts in object-oriented programming (OOP). It describes the idea of \\nwrapping data and the methods that work on data within one unit. This puts restrictions on accessing variables and \\nmethods directly and can prevent the accidental modification of data. To prevent accidental change, an object’s \\nvariable can only be changed by an object’s method. Those type of variables are known as private varibale.\\n\\nA class is an example of encapsulation as it encapsulates all the data that is member functions, variables, etc.\\n\\n\\n\\nConsider a real-life example of encapsulation, in a company, there are different sections like the accounts section, \\nfinance section, sales section etc. The finance section handles all the financial transactions and keeps records of \\nall the data related to finance. Similarly, the sales section handles all the sales-related activities and keeps \\nrecords of all the sales. Now there may arise a situation when for some reason an official from the finance section \\nneeds all the data about sales in a particular month. In this case, he is not allowed to directly access the data of \\nthe sales section. He will first have to contact some other officer in the sales section and then request him to give \\nthe particular data. This is what encapsulation is. Here the data of the sales section and the employees that can \\nmanipulate them are wrapped under a single name “sales section”. As using encapsulation also hides the data. In this \\nexample, the data of any of the sections like sales, finance or accounts are hidden from any other section.\\nProtected members\\n\\nProtected members (in C++ and JAVA) are those members of the class which cannot be accessed outside the class but can \\nbe accessed from within the class and it’s subclasses. To accomplish this in Python, just follow the convention by \\nprefixing the name of the member by a single underscore “_”.\\n\\nNote: The __init__ method is a constructor and runs as soon as an object of a class is instantiated. '"
      ]
     },
     "execution_count": 1,
     "metadata": {},
     "output_type": "execute_result"
    }
   ],
   "source": [
    "#Encapsulation in python\n",
    "#what is encapsulation\n",
    "\"\"\"\n",
    "Encapsulation is one of the fundamental concepts in object-oriented programming (OOP). It describes the idea of \n",
    "wrapping data and the methods that work on data within one unit. This puts restrictions on accessing variables and \n",
    "methods directly and can prevent the accidental modification of data. To prevent accidental change, an object’s \n",
    "variable can only be changed by an object’s method. Those type of variables are known as private varibale.\n",
    "\n",
    "A class is an example of encapsulation as it encapsulates all the data that is member functions, variables, etc.\n",
    "\n",
    "\n",
    "\n",
    "Consider a real-life example of encapsulation, in a company, there are different sections like the accounts section, \n",
    "finance section, sales section etc. The finance section handles all the financial transactions and keeps records of \n",
    "all the data related to finance. Similarly, the sales section handles all the sales-related activities and keeps \n",
    "records of all the sales. Now there may arise a situation when for some reason an official from the finance section \n",
    "needs all the data about sales in a particular month. In this case, he is not allowed to directly access the data of \n",
    "the sales section. He will first have to contact some other officer in the sales section and then request him to give \n",
    "the particular data. This is what encapsulation is. Here the data of the sales section and the employees that can \n",
    "manipulate them are wrapped under a single name “sales section”. As using encapsulation also hides the data. In this \n",
    "example, the data of any of the sections like sales, finance or accounts are hidden from any other section.\n",
    "Protected members\n",
    "\n",
    "Protected members (in C++ and JAVA) are those members of the class which cannot be accessed outside the class but can \n",
    "be accessed from within the class and it’s subclasses. To accomplish this in Python, just follow the convention by \n",
    "prefixing the name of the member by a single underscore “_”.\n",
    "\n",
    "Note: The __init__ method is a constructor and runs as soon as an object of a class is instantiated. \"\"\""
   ]
  },
  {
   "cell_type": "code",
   "execution_count": 4,
   "metadata": {},
   "outputs": [
    {
     "name": "stdout",
     "output_type": "stream",
     "text": [
      "Calling protected member of base class: \n",
      "2\n"
     ]
    }
   ],
   "source": [
    "\n",
    "# Python program to \n",
    "# demonstrate protected members \n",
    "  \n",
    "  \n",
    "# Creating a base class \n",
    "class Base: \n",
    "    def __init__(self): \n",
    "          \n",
    "        # Protected member \n",
    "        self._a = 2\n",
    "  \n",
    "# Creating a derived class     \n",
    "class Derived(Base): \n",
    "    def __init__(self): \n",
    "          \n",
    "        # Calling constructor of \n",
    "        # Base class \n",
    "        Base.__init__(self)  \n",
    "        print(\"Calling protected member of base class: \") \n",
    "        print(self._a) \n",
    "          \n",
    "obj1 = Base() \n",
    "  \n",
    "# Calling protected member \n",
    "# Outside class will  result in  \n",
    "# AttributeError \n",
    "#print(obj1.a) \n",
    "  \n",
    "obj2 = Derived() \n"
   ]
  },
  {
   "cell_type": "code",
   "execution_count": 5,
   "metadata": {},
   "outputs": [
    {
     "name": "stdout",
     "output_type": "stream",
     "text": [
      "GeeksforGeeks\n"
     ]
    }
   ],
   "source": [
    "#Private members\n",
    "\n",
    "\"\"\"Private members are similar to protected members, the difference is that the class members declared private should\n",
    "neither be accessed outside the class nor by any base class. In Python, there is no existence of Private instance \n",
    "variables that cannot be accessed except inside a class. However, to define a private member prefix the member name \n",
    "with double underscore “__”.\n",
    "\n",
    "Note: Python’s private and protect member can be accessed outside the class through python name mangling.\n",
    "filter_none\n",
    "\n",
    "\"\"\"\n",
    "\n",
    "\n",
    "# Python program to  \n",
    "# demonstrate private members \n",
    "  \n",
    "# Creating a Base class \n",
    "class Base: \n",
    "    def __init__(self): \n",
    "        self.a = \"GeeksforGeeks\"\n",
    "        self.__c = \"GeeksforGeeks\"\n",
    "  \n",
    "# Creating a derived class \n",
    "class Derived(Base): \n",
    "    def __init__(self): \n",
    "          \n",
    "        # Calling constructor of \n",
    "        # Base class \n",
    "        Base.__init__(self)  \n",
    "        print(\"Calling private member of base class: \") \n",
    "        print(self.__a) \n",
    "# Driver code \n",
    "obj1 = Base() \n",
    "print(obj1.a) \n",
    "  \n",
    "# Uncommenting print(obj1.c) will \n",
    "# raise an AttributeError \n",
    "  \n",
    "# Uncommenting obj2 = Derived() will \n",
    "# also raise an AtrributeError as \n",
    "# private member of base class  \n",
    "# is called inside derived class \n"
   ]
  },
  {
   "cell_type": "code",
   "execution_count": 7,
   "metadata": {},
   "outputs": [
    {
     "data": {
      "text/plain": [
       "'Abstraction in Python\\n\\nAbstraction in Python is achieved by using abstract classes and interfaces.\\n\\nAn abstract class is a class that generally provides incomplete functionality and contains one or more abstract methods\\n. Abstract methods are the methods that generally don’t have any implementation, it is left to the sub classes to \\nprovide implementation for the abstract methods.\\n\\n    Refer this post Abstract Class in Python to know more about abstract class in Python.\\n\\nAn interface should just provide the method names without method bodies. Subclasses should provide implementation for \\nall the methods defined in an interface. Note that in Python there is no support for creating interfaces explicitly, \\nyou will have to use abstract class. In Python you can create an interface using abstract class. If you create an \\nabstract class which contains only abstract methods that acts as an interface in Python.\\nPython abstraction example using abstract class\\n\\nIn the example there is an abstract class Payment that has an abstract method payment(). There are two child classes \\n\\nCreditCardPayment and MobileWalletPayment derived from Payment that implement the abstract method payment() as per \\ntheir functionality.\\n\\nAs a user we are abstracted from that implementation when an object of CreditCardPayment is created and payment() \\nmethod is\\ninvoked using that object, payment method of CreditCardPayment class is invoked. When an object of MobileWalletPayment\\nis created and payment() method is invoked using that object, payment method of MobileWalletPayment class is invoked.'"
      ]
     },
     "execution_count": 7,
     "metadata": {},
     "output_type": "execute_result"
    }
   ],
   "source": [
    "#Abstraction in Python \n",
    "\n",
    "# Abstraction is one of the four fundamental OOPS concepts. The other three being-\n",
    "\n",
    "#     Inheritance\n",
    "#     Polymorphism\n",
    "#     Encapsulation\n",
    "\n",
    "# What is Abstraction\n",
    "\"\"\" Abstraction means hiding the complexity and only showing the essential features of the object. So in a way,\n",
    "Abstraction means hiding the real implementation and we, as a user, knowing only how to use it.\n",
    "\n",
    "Real world example would be a vehicle which we drive with out caring or knowing what all is going underneath.\n",
    "\n",
    "A TV set where we enjoy programs with out knowing the inner details of how TV works.\"\"\"\n",
    "\n",
    "\"\"\"Abstraction in Python\n",
    "\n",
    "Abstraction in Python is achieved by using abstract classes and interfaces.\n",
    "\n",
    "An abstract class is a class that generally provides incomplete functionality and contains one or more abstract methods\n",
    ". Abstract methods are the methods that generally don’t have any implementation, it is left to the sub classes to \n",
    "provide implementation for the abstract methods.\n",
    "\n",
    "    Refer this post Abstract Class in Python to know more about abstract class in Python.\n",
    "\n",
    "An interface should just provide the method names without method bodies. Subclasses should provide implementation for \n",
    "all the methods defined in an interface. Note that in Python there is no support for creating interfaces explicitly, \n",
    "you will have to use abstract class. In Python you can create an interface using abstract class. If you create an \n",
    "abstract class which contains only abstract methods that acts as an interface in Python.\n",
    "Python abstraction example using abstract class\n",
    "\n",
    "In the example there is an abstract class Payment that has an abstract method payment(). There are two child classes \n",
    "\n",
    "CreditCardPayment and MobileWalletPayment derived from Payment that implement the abstract method payment() as per \n",
    "their functionality.\n",
    "\n",
    "As a user we are abstracted from that implementation when an object of CreditCardPayment is created and payment() \n",
    "method is\n",
    "invoked using that object, payment method of CreditCardPayment class is invoked. When an object of MobileWalletPayment\n",
    "is created and payment() method is invoked using that object, payment method of MobileWalletPayment class is invoked.\"\"\"\n",
    "\n"
   ]
  },
  {
   "cell_type": "code",
   "execution_count": 8,
   "metadata": {},
   "outputs": [
    {
     "name": "stdout",
     "output_type": "stream",
     "text": [
      "I have 3 sides\n",
      "I have 4 sides\n",
      "I have 5 sides\n",
      "I have 6 sides\n"
     ]
    }
   ],
   "source": [
    "\n",
    "# Python program showing \n",
    "# abstract base class work \n",
    "  \n",
    "from abc import ABC, abstractmethod \n",
    "  \n",
    "class Polygon(ABC): \n",
    "  \n",
    "    # abstract method \n",
    "    def noofsides(self): \n",
    "        pass\n",
    "  \n",
    "class Triangle(Polygon): \n",
    "  \n",
    "    # overriding abstract method \n",
    "    def noofsides(self): \n",
    "        print(\"I have 3 sides\") \n",
    "  \n",
    "class Pentagon(Polygon): \n",
    "  \n",
    "    # overriding abstract method \n",
    "    def noofsides(self): \n",
    "        print(\"I have 5 sides\") \n",
    "  \n",
    "class Hexagon(Polygon): \n",
    "  \n",
    "    # overriding abstract method \n",
    "    def noofsides(self): \n",
    "        print(\"I have 6 sides\") \n",
    "  \n",
    "class Quadrilateral(Polygon): \n",
    "  \n",
    "    # overriding abstract method \n",
    "    def noofsides(self): \n",
    "        print(\"I have 4 sides\") \n",
    "  \n",
    "# Driver code \n",
    "R = Triangle() \n",
    "R.noofsides() \n",
    "  \n",
    "K = Quadrilateral() \n",
    "K.noofsides() \n",
    "  \n",
    "R = Pentagon() \n",
    "R.noofsides() \n",
    "  \n",
    "K = Hexagon() \n",
    "K.noofsides() \n"
   ]
  },
  {
   "cell_type": "code",
   "execution_count": 10,
   "metadata": {},
   "outputs": [
    {
     "data": {
      "text/plain": [
       "'\\nPython Underscore Naming Patterns – Summary\\n\\nHere’s a quick summary or “cheat sheet” of what the five underscore patterns I covered in this article mean in Python:\\nPattern                             \\tExample      \\tMeaning\\nSingle Leading Underscore           \\t_var         \\tNaming convention indicating a name is meant for internal use. \\n                                                        Generally not enforced by the Python interpreter (except in wildcard \\n                                                        imports)  and meant as a hint to the programmer only.\\nSingle Trailing Underscore          \\tvar_        \\tUsed by convention to avoid naming conflicts with Python keywords.\\n\\nDouble Leading Underscore           \\t__var       \\tTriggers name mangling when used in a class context. Enforced by \\n                                                       the Python interpreter.\\n                                                       \\nDouble Leading and Trailing Underscore \\t__var__     \\tIndicates special methods defined by the Python language. Avoid \\n                                                        this naming scheme for your own attributes.\\n                                                        \\nSingle Underscore \\t_                               \\tSometimes used as a name for temporary or insignificant \\n                                                        variables (“don’t care”). Also: The result of the last expression \\n                                                        in a Python REPL.'"
      ]
     },
     "execution_count": 10,
     "metadata": {},
     "output_type": "execute_result"
    }
   ],
   "source": [
    "# we are doing some naming convension for our developer convenience\n",
    "#    _name     convention of private name\n",
    "# __name__   dunder/ magic methods\n",
    "\"\"\"\n",
    "Python Underscore Naming Patterns – Summary\n",
    "\n",
    "Here’s a quick summary or “cheat sheet” of what the five underscore patterns I covered in this article mean in Python:\n",
    "Pattern                             \tExample      \tMeaning\n",
    "Single Leading Underscore           \t_var         \tNaming convention indicating a name is meant for internal use. \n",
    "                                                        Generally not enforced by the Python interpreter (except in wildcard \n",
    "                                                        imports)  and meant as a hint to the programmer only.\n",
    "Single Trailing Underscore          \tvar_        \tUsed by convention to avoid naming conflicts with Python keywords.\n",
    "\n",
    "Double Leading Underscore           \t__var       \tTriggers name mangling when used in a class context. Enforced by \n",
    "                                                       the Python interpreter.\n",
    "                                                       \n",
    "Double Leading and Trailing Underscore \t__var__     \tIndicates special methods defined by the Python language. Avoid \n",
    "                                                        this naming scheme for your own attributes.\n",
    "                                                        \n",
    "Single Underscore \t_                               \tSometimes used as a name for temporary or insignificant \n",
    "                                                        variables (“don’t care”). Also: The result of the last expression \n",
    "                                                        in a Python REPL.\"\"\""
   ]
  },
  {
   "cell_type": "code",
   "execution_count": 11,
   "metadata": {},
   "outputs": [
    {
     "data": {
      "text/plain": [
       "'\\nInheritance is the capability of one class to derive or inherit the properties from some another class. The benefits\\nof inheritance are:\\n\\n    It represents real-world relationships well.\\n    It provides reusability of a code. We don’t have to write the same code again and again. Also, it allows us to add \\n    more features to a class without modifying it.\\n    It is transitive in nature, which means that if class B inherits from another class A, then all the subclasses of \\n    B would automatically inherit from class A.\\n\\nBelow is a simple example of inheritance in Python'"
      ]
     },
     "execution_count": 11,
     "metadata": {},
     "output_type": "execute_result"
    }
   ],
   "source": [
    "# Inheritance in Python\n",
    "\"\"\"\n",
    "Inheritance is the capability of one class to derive or inherit the properties from some another class. The benefits\n",
    "of inheritance are:\n",
    "\n",
    "    It represents real-world relationships well.\n",
    "    It provides reusability of a code. We don’t have to write the same code again and again. Also, it allows us to add \n",
    "    more features to a class without modifying it.\n",
    "    It is transitive in nature, which means that if class B inherits from another class A, then all the subclasses of \n",
    "    B would automatically inherit from class A.\n",
    "\n",
    "Below is a simple example of inheritance in Python\"\"\"\n"
   ]
  },
  {
   "cell_type": "code",
   "execution_count": 45,
   "metadata": {},
   "outputs": [
    {
     "name": "stdout",
     "output_type": "stream",
     "text": [
      "John Doe\n",
      "Mike Olsen\n"
     ]
    }
   ],
   "source": [
    "# Example\n",
    "\n",
    "# Create a class named Person, with firstname and lastname properties, and a printname method:\n",
    "class Person:\n",
    "    def __init__(self, fname, lname):\n",
    "        self.firstname = fname\n",
    "        self.lastname = lname\n",
    "\n",
    "    def printname(self):\n",
    "        print(self.firstname, self.lastname)\n",
    "\n",
    "#Use the Person class to create an object, and then execute the printname method:\n",
    "\n",
    "x = Person(\"John\", \"Doe\")\n",
    "x.printname() \n",
    "\n",
    "# Create a Child Class\n",
    "\n",
    "# To create a class that inherits the functionality from another class, send the parent class as a parameter when creating the child class:\n",
    "# Example\n",
    "\n",
    "# Create a class named Student, which will inherit the properties and methods from the Person class:\n",
    "\n",
    "class Student(Person):\n",
    "    pass\n",
    "\n",
    "#Note: Use the pass keyword when you do not want to add any other properties or methods to the class.\n",
    "\n",
    "# Now the Student class has the same properties and methods as the Person class.\n",
    "# Example\n",
    "\n",
    "# Use the Student class to create an object, and then execute the printname method:\n",
    "\n",
    "x = Student(\"Mike\", \"Olsen\")\n",
    "x.printname() \n"
   ]
  },
  {
   "cell_type": "code",
   "execution_count": 29,
   "metadata": {},
   "outputs": [],
   "source": [
    "# Add the __init__() Function\n",
    "\n",
    "# So far we have created a child class that inherits the properties and methods from its parent.\n",
    "\n",
    "# We want to add the __init__() function to the child class (instead of the pass keyword).\n",
    "\n",
    "# Note: The __init__() function is called automatically every time the class is being used to create a new object.\n",
    "# Example\n",
    "\n",
    "# Add the __init__() function to the Student class:\n",
    "\n",
    "class Student(Person):\n",
    "    def __init__(self, fname, lname):\n",
    "    \n",
    "    \n",
    "#add properties etc.\n",
    "\n",
    "# When you add the __init__() function, the child class will no longer inherit the parent's __init__() function.\n",
    "\n",
    "# Note: The child's __init__() function overrides the inheritance of the parent's __init__() function.\n",
    "# To keep the inheritance of the parent's __init__() function, add a call to the parent's __init__() function:\n",
    "# Example\n",
    "       class Student(Person):\n",
    "           def __init__(self, fname, lname):\n",
    "                Person.__init__(self, fname, lname) \n"
   ]
  },
  {
   "cell_type": "code",
   "execution_count": 31,
   "metadata": {},
   "outputs": [
    {
     "name": "stdout",
     "output_type": "stream",
     "text": [
      "Mike Olsen\n"
     ]
    }
   ],
   "source": [
    "class Person:\n",
    "    def __init__(self, fname, lname):\n",
    "        self.firstname = fname\n",
    "        self.lastname = lname\n",
    "\n",
    "    def printname(self):\n",
    "        print(self.firstname, self.lastname)\n",
    "\n",
    "class Student(Person):\n",
    "    def __init__(self, fname, lname):\n",
    "        Person.__init__(self, fname, lname)\n",
    "\n",
    "x = Student(\"Mike\", \"Olsen\")\n",
    "x.printname()\n"
   ]
  },
  {
   "cell_type": "code",
   "execution_count": 33,
   "metadata": {},
   "outputs": [
    {
     "name": "stdout",
     "output_type": "stream",
     "text": [
      "Mike Olsen\n"
     ]
    }
   ],
   "source": [
    "# Now we have successfully added the __init__() function, and kept the inheritance of the parent class, and we are ready \n",
    "# to add functionality in the __init__() function.\n",
    "# Use the super() Function\n",
    "\n",
    "# Python also has a super() function that will make the child class inherit all the methods and properties from its\n",
    "# parent:\n",
    "\n",
    "class Person:\n",
    "    def __init__(self, fname, lname):\n",
    "        self.firstname = fname\n",
    "        self.lastname = lname\n",
    "\n",
    "    def printname(self):\n",
    "        print(self.firstname, self.lastname)\n",
    "\n",
    "class Student(Person):\n",
    "     def __init__(self, fname, lname):\n",
    "        super().__init__(fname, lname)\n",
    "\n",
    "x = Student(\"Mike\", \"Olsen\")\n",
    "x.printname()\n",
    "\n",
    "# By using the super() function, you do not have to use the name of the parent element, it will automatically inherit the methods and properties from its parent.\n"
   ]
  },
  {
   "cell_type": "code",
   "execution_count": 35,
   "metadata": {},
   "outputs": [
    {
     "name": "stdout",
     "output_type": "stream",
     "text": [
      "2019\n"
     ]
    }
   ],
   "source": [
    "# Add Properties\n",
    "# Example\n",
    "\n",
    "# Add a property called graduationyear to the Student class:\n",
    "class Person:\n",
    "    def __init__(self, fname, lname):\n",
    "        self.firstname = fname\n",
    "        self.lastname = lname\n",
    "\n",
    "    def printname(self):\n",
    "        print(self.firstname, self.lastname)\n",
    "\n",
    "class Student(Person):\n",
    "     def __init__(self, fname, lname):\n",
    "        super().__init__(fname, lname)\n",
    "        self.graduationyear = 2019\n",
    "\n",
    "x = Student(\"Mike\", \"Olsen\")\n",
    "print(x.graduationyear)"
   ]
  },
  {
   "cell_type": "code",
   "execution_count": 36,
   "metadata": {},
   "outputs": [
    {
     "name": "stdout",
     "output_type": "stream",
     "text": [
      "2019\n"
     ]
    }
   ],
   "source": [
    "# In the example below, the year 2019 should be a variable, and passed into the Student class when creating student objects. To do so, add another parameter in the __init__() function:\n",
    "# Example\n",
    "\n",
    "# Add a year parameter, and pass the correct year when creating objects:\n",
    "\n",
    "class Person:\n",
    "    def __init__(self, fname, lname):\n",
    "        self.firstname = fname\n",
    "        self.lastname = lname\n",
    "\n",
    "    def printname(self):\n",
    "        print(self.firstname, self.lastname)\n",
    "\n",
    "class Student(Person):\n",
    "    def __init__(self, fname, lname, year):\n",
    "        super().__init__(fname, lname)\n",
    "        self.graduationyear = year\n",
    "\n",
    "x = Student(\"Mike\", \"Olsen\", 2019)\n",
    "print(x.graduationyear)\n"
   ]
  },
  {
   "cell_type": "code",
   "execution_count": 44,
   "metadata": {},
   "outputs": [
    {
     "name": "stdout",
     "output_type": "stream",
     "text": [
      "Welcome Mike Olsen to the class of 2019\n"
     ]
    }
   ],
   "source": [
    "# Add Methods\n",
    "# Example\n",
    "\n",
    "# Add a method called welcome to the Student class:\n",
    "class Person:\n",
    "    def __init__(self, fname, lname):\n",
    "        self.firstname = fname\n",
    "        self.lastname = lname\n",
    "\n",
    "    def printname(self):\n",
    "        print(self.firstname, self.lastname)\n",
    "\n",
    "class Student(Person):\n",
    "    def __init__(self, fname, lname, year):\n",
    "        super().__init__(fname, lname)\n",
    "        self.graduationyear = year\n",
    "\n",
    "    def welcome(self):\n",
    "        print(\"Welcome\", self.firstname, self.lastname, \"to the class of\", self.graduationyear)\n",
    "\n",
    "x = Student(\"Mike\", \"Olsen\", 2019)\n",
    "x.welcome()\n",
    "\n",
    "#If you add a method in the child class with the same name as a function in the parent class, the inheritance of the\n",
    "#parent method will be overridden."
   ]
  },
  {
   "cell_type": "code",
   "execution_count": 56,
   "metadata": {},
   "outputs": [
    {
     "name": "stdout",
     "output_type": "stream",
     "text": [
      "Base1\n",
      "Base2\n",
      "Derived\n",
      "Geek1 Geek2\n"
     ]
    }
   ],
   "source": [
    "# Different forms of Inheritance:\n",
    "# 1. Single inheritance: When a child class inherits from only one parent class, it is called as single inheritance.\n",
    "#     We saw an example above.\n",
    "\n",
    "# 2. Multiple inheritance: When a child class inherits from multiple parent classes, it is called as multiple \n",
    "#     inheritance.\n",
    "# Unlike Java and like C++, Python supports multiple inheritance. We specify all parent classes as comma separated \n",
    "# list in bracket.\n",
    "\n",
    "# Python example to show working of multiple  \n",
    "\n",
    "class Base1(object): \n",
    "    def __init__(self): \n",
    "        self.str1 = \"Geek1\"\n",
    "        print (\"Base1\")\n",
    "\n",
    "        \n",
    "        \n",
    "class Base2(object): \n",
    "    def __init__(self): \n",
    "        self.str2 = \"Geek2\"        \n",
    "        print (\"Base2\")\n",
    "        \n",
    "        \n",
    "        \n",
    "        \n",
    "class Derived(Base1, Base2): \n",
    "    def __init__(self): \n",
    "          \n",
    "        # Calling constructors of Base1 \n",
    "        # and Base2 classes \n",
    "        Base1.__init__(self) \n",
    "        Base2.__init__(self) \n",
    "        print (\"Derived\") \n",
    "        \n",
    "    def printStrs(self): \n",
    "        print(self.str1, self.str2) \n",
    "         \n",
    "  \n",
    "\n",
    "ob = Derived() \n",
    "ob.printStrs()\n",
    "        \n",
    "        \n",
    "        "
   ]
  },
  {
   "cell_type": "code",
   "execution_count": 57,
   "metadata": {},
   "outputs": [
    {
     "name": "stdout",
     "output_type": "stream",
     "text": [
      "Geek1 23 Noida\n"
     ]
    }
   ],
   "source": [
    "#3. Multilevel inheritance: When we have child and grand child relationship.\n",
    "# A Python program to demonstrate inheritance  \n",
    "  \n",
    "# Base or Super class. Note object in bracket. \n",
    "# (Generally, object is made ancestor of all classes) \n",
    "# In Python 3.x \"class Person\" is  \n",
    "# equivalent to \"class Person(object)\" \n",
    "class Base(object): \n",
    "      \n",
    "    # Constructor \n",
    "    def __init__(self, name): \n",
    "        self.name = name \n",
    "  \n",
    "    # To get name \n",
    "    def getName(self): \n",
    "        return self.name \n",
    "  \n",
    "  \n",
    "# Inherited or Sub class (Note Person in bracket) \n",
    "class Child(Base): \n",
    "      \n",
    "    # Constructor \n",
    "    def __init__(self, name, age): \n",
    "        Base.__init__(self, name) \n",
    "        self.age = age \n",
    "  \n",
    "    # To get name \n",
    "    def getAge(self): \n",
    "        return self.age \n",
    "  \n",
    "# Inherited or Sub class (Note Person in bracket) \n",
    "class GrandChild(Child): \n",
    "      \n",
    "    # Constructor \n",
    "    def __init__(self, name, age, address): \n",
    "        Child.__init__(self, name, age) \n",
    "        self.address = address \n",
    "  \n",
    "    # To get address \n",
    "    def getAddress(self): \n",
    "        return self.address         \n",
    "  \n",
    "# Driver code \n",
    "g = GrandChild(\"Geek1\", 23, \"Noida\")   \n",
    "print(g.getName(), g.getAge(), g.getAddress()) \n"
   ]
  },
  {
   "cell_type": "code",
   "execution_count": 62,
   "metadata": {},
   "outputs": [
    {
     "ename": "AttributeError",
     "evalue": "type object 'D' has no attribute 'd'",
     "output_type": "error",
     "traceback": [
      "\u001b[1;31m---------------------------------------------------------------------------\u001b[0m",
      "\u001b[1;31mAttributeError\u001b[0m                            Traceback (most recent call last)",
      "\u001b[1;32m<ipython-input-62-1bab00331075>\u001b[0m in \u001b[0;36m<module>\u001b[1;34m\u001b[0m\n\u001b[0;32m     22\u001b[0m \u001b[1;33m\u001b[0m\u001b[0m\n\u001b[0;32m     23\u001b[0m \u001b[1;31m# produces an error as d is private instance variable\u001b[0m\u001b[1;33m\u001b[0m\u001b[1;33m\u001b[0m\u001b[1;33m\u001b[0m\u001b[0m\n\u001b[1;32m---> 24\u001b[1;33m \u001b[0mprint\u001b[0m\u001b[1;33m(\u001b[0m\u001b[0mD\u001b[0m\u001b[1;33m.\u001b[0m\u001b[0md\u001b[0m\u001b[1;33m)\u001b[0m\u001b[1;33m\u001b[0m\u001b[1;33m\u001b[0m\u001b[0m\n\u001b[0m\u001b[0;32m     25\u001b[0m \u001b[1;33m\u001b[0m\u001b[0m\n\u001b[0;32m     26\u001b[0m \u001b[1;31m#Since ‘d’ is made private by those underscores, it is not available to the child class ‘D’ and hence the error.\u001b[0m\u001b[1;33m\u001b[0m\u001b[1;33m\u001b[0m\u001b[1;33m\u001b[0m\u001b[0m\n",
      "\u001b[1;31mAttributeError\u001b[0m: type object 'D' has no attribute 'd'"
     ]
    }
   ],
   "source": [
    "# . Hierarchical inheritance More than one derived classes are created from a single base.\n",
    "\n",
    "# 4. Hybrid inheritance: This form combines more than one form of inheritance. Basically, it is a blend of more than one type of inheritance.\n",
    "\n",
    "# Private members of parent class\n",
    "# We don’t always want the instance variables of the parent class to be inherited by the child class i.e. we can make some of the instance variables of the parent class private, which won’t be available to the child class.\n",
    "# We can make an instance variable by adding double underscores before its name. For example,\n",
    "\n",
    "# Python program to demonstrate private members \n",
    "# of the parent class \n",
    "class C(object): \n",
    "       def __init__(self): \n",
    "              self.c = 21\n",
    "  \n",
    "              # d is private instance variable  \n",
    "              self.__d = 42    \n",
    "class D(C): \n",
    "       def __init__(self): \n",
    "              self.e = 84\n",
    "              C.__init__(self) \n",
    "object1 = D() \n",
    "  \n",
    "# produces an error as d is private instance variable \n",
    "print(D.d)                        \n",
    "\n",
    "#Since ‘d’ is made private by those underscores, it is not available to the child class ‘D’ and hence the error.\n"
   ]
  },
  {
   "cell_type": "code",
   "execution_count": 1,
   "metadata": {},
   "outputs": [
    {
     "data": {
      "text/plain": [
       "'Dunder or magic methods in Python are the methods having two prefix and suffix underscores in the method name. Dunder \\nhere means “Double Under (Underscores)”. These are commonly used for operator overloading. Few examples for magic \\nmethods are: __init__, __add__, __len__, __repr__ etc.\\n\\nThe __init__ method for initialization is invoked without any call, when an instance of a class is created, like \\nconstructors in certain other programming languages such as C++, Java, C#, PHP etc. These methods are the reason we \\ncan add two strings with ‘+’ operator without any explicit typecasting.\\n\\nHere’s a simple implementation :'"
      ]
     },
     "execution_count": 1,
     "metadata": {},
     "output_type": "execute_result"
    }
   ],
   "source": [
    "\n",
    "#Dunder or magic methods in Python\n",
    "\n",
    "\"\"\"Dunder or magic methods in Python are the methods having two prefix and suffix underscores in the method name. Dunder \n",
    "here means “Double Under (Underscores)”. These are commonly used for operator overloading. Few examples for magic \n",
    "methods are: __init__, __add__, __len__, __repr__ etc.\n",
    "\n",
    "The __init__ method for initialization is invoked without any call, when an instance of a class is created, like \n",
    "constructors in certain other programming languages such as C++, Java, C#, PHP etc. These methods are the reason we \n",
    "can add two strings with ‘+’ operator without any explicit typecasting.\n",
    "\n",
    "Here’s a simple implementation :\"\"\""
   ]
  },
  {
   "cell_type": "code",
   "execution_count": 3,
   "metadata": {},
   "outputs": [
    {
     "name": "stdout",
     "output_type": "stream",
     "text": [
      "<__main__.String object at 0x000001B77DA29C50>\n"
     ]
    }
   ],
   "source": [
    "\n",
    "# declare our own string class \n",
    "class String: \n",
    "      \n",
    "    # magic method to initiate object \n",
    "    def __init__(self, string): \n",
    "        self.string = string \n",
    "          \n",
    "# Driver Code \n",
    "if __name__ == '__main__': \n",
    "      \n",
    "    # object creation \n",
    "    string1 = String('Hello') \n",
    "  \n",
    "    # print object location \n",
    "    print(string1) \n",
    "\n",
    "#  The above snippet of code prints only the memory address of the string object. Let’s add a __repr__ method to \n",
    " #represent our object.  "
   ]
  },
  {
   "cell_type": "code",
   "execution_count": 4,
   "metadata": {},
   "outputs": [
    {
     "name": "stdout",
     "output_type": "stream",
     "text": [
      "Object: Hello\n"
     ]
    }
   ],
   "source": [
    "\n",
    "# declare our own string class \n",
    "class String: \n",
    "      \n",
    "    # magic method to initiate object \n",
    "    def __init__(self, string): \n",
    "        self.string = string \n",
    "          \n",
    "    # print our string object \n",
    "    def __repr__(self): \n",
    "        return 'Object: {}'.format(self.string) \n",
    "  \n",
    "# Driver Code \n",
    "if __name__ == '__main__': \n",
    "      \n",
    "    # object creation \n",
    "    string1 = String('Hello') \n",
    "  \n",
    "    # print object location \n",
    "    print(string1) \n"
   ]
  },
  {
   "cell_type": "code",
   "execution_count": 5,
   "metadata": {},
   "outputs": [
    {
     "ename": "TypeError",
     "evalue": "unsupported operand type(s) for +: 'String' and 'str'",
     "output_type": "error",
     "traceback": [
      "\u001b[1;31m---------------------------------------------------------------------------\u001b[0m",
      "\u001b[1;31mTypeError\u001b[0m                                 Traceback (most recent call last)",
      "\u001b[1;32m<ipython-input-5-6953a8d618fb>\u001b[0m in \u001b[0;36m<module>\u001b[1;34m\u001b[0m\n\u001b[0;32m     19\u001b[0m \u001b[1;33m\u001b[0m\u001b[0m\n\u001b[0;32m     20\u001b[0m     \u001b[1;31m# concatenate String object and a string\u001b[0m\u001b[1;33m\u001b[0m\u001b[1;33m\u001b[0m\u001b[1;33m\u001b[0m\u001b[0m\n\u001b[1;32m---> 21\u001b[1;33m     \u001b[0mprint\u001b[0m\u001b[1;33m(\u001b[0m\u001b[0mstring1\u001b[0m \u001b[1;33m+\u001b[0m\u001b[1;34m' world'\u001b[0m\u001b[1;33m)\u001b[0m\u001b[1;33m\u001b[0m\u001b[1;33m\u001b[0m\u001b[0m\n\u001b[0m\u001b[0;32m     22\u001b[0m \u001b[1;33m\u001b[0m\u001b[0m\n\u001b[0;32m     23\u001b[0m \u001b[1;31m#Output :\u001b[0m\u001b[1;33m\u001b[0m\u001b[1;33m\u001b[0m\u001b[1;33m\u001b[0m\u001b[0m\n",
      "\u001b[1;31mTypeError\u001b[0m: unsupported operand type(s) for +: 'String' and 'str'"
     ]
    }
   ],
   "source": [
    "# if we try to add a string to it :\n",
    "\n",
    "# declare our own string class \n",
    "class String: \n",
    "      \n",
    "    # magic method to initiate object \n",
    "    def __init__(self, string): \n",
    "        self.string = string \n",
    "          \n",
    "    # print our string object \n",
    "    def __repr__(self): \n",
    "        return 'Object: {}'.format(self.string) \n",
    "  \n",
    "# Driver Code \n",
    "if __name__ == '__main__': \n",
    "      \n",
    "    # object creation \n",
    "    string1 = String('Hello') \n",
    "      \n",
    "    # concatenate String object and a string \n",
    "    print(string1 +' world') \n",
    "\n",
    "#Output :\n",
    "\n",
    "# TypeError: unsupported operand type(s) for +: 'String' and 'str'\n",
    "\n",
    " "
   ]
  },
  {
   "cell_type": "code",
   "execution_count": 6,
   "metadata": {},
   "outputs": [
    {
     "name": "stdout",
     "output_type": "stream",
     "text": [
      "Hello Geeks\n"
     ]
    }
   ],
   "source": [
    "#Now add __add__ method to String class :\n",
    "\n",
    "# declare our own string class \n",
    "class String: \n",
    "      \n",
    "    # magic method to initiate object \n",
    "    def __init__(self, string): \n",
    "        self.string = string  \n",
    "          \n",
    "    # print our string object \n",
    "    def __repr__(self): \n",
    "        return 'Object: {}'.format(self.string) \n",
    "          \n",
    "    def __add__(self, other): \n",
    "        return self.string + other \n",
    "  \n",
    "# Driver Code \n",
    "if __name__ == '__main__': \n",
    "      \n",
    "    # object creation \n",
    "    string1 = String('Hello') \n",
    "      \n",
    "    # concatenate String object and a string \n",
    "    print(string1 +' Geeks') \n",
    "\n",
    "#Output :\n",
    "\n",
    "#Hello Geeks\n"
   ]
  },
  {
   "cell_type": "code",
   "execution_count": 7,
   "metadata": {},
   "outputs": [
    {
     "data": {
      "text/plain": [
       "'\\nOperator                            \\tMagic Method\\n+                                   \\t__add__(self, other)\\n–                                   \\t__sub__(self, other)\\n*                                   \\t__mul__(self, other)\\n/                                   \\t__truediv__(self, other)\\n//                                  \\t__floordiv__(self, other)\\n%                                   \\t__mod__(self, other)\\n**                                  \\t__pow__(self, other)\\n\\n#Comparison Operators :\\nOperator                            \\tMagic Method\\n<                                   \\t__lt__(self, other)\\n>                                   \\t__gt__(self, other)\\n<=                                  \\t__le__(self, other)\\n>=                                  \\t__ge__(self, other)\\n==                                  \\t__eq__(self, other)\\n!=                                  \\t__ne__(self, other)\\n\\n#Assignment Operators :\\nOperator                            \\tMagic Method\\n-=                                  \\t__isub__(self, other)\\n+=                                  \\t__iadd__(self, other)\\n*=                                  \\t__imul__(self, other)\\n/=                                  \\t__idiv__(self, other)\\n//=                                 \\t__ifloordiv__(self, other)\\n%=                                  \\t__imod__(self, other)\\n**=                                 \\t__ipow__(self, other)\\n\\n#Unary Operators :\\nOperator                            \\tMagic Method\\n–                                   \\t__neg__(self, other)\\n+                                   \\t__pos__(self, other)\\n~                                   \\t__invert__(self, other)\\n'"
      ]
     },
     "execution_count": 7,
     "metadata": {},
     "output_type": "execute_result"
    }
   ],
   "source": [
    "#Python magic methods or special functions for operator overloading\n",
    "#Binary Operators:\n",
    "\"\"\"\n",
    "Operator                            \tMagic Method\n",
    "+                                   \t__add__(self, other)\n",
    "–                                   \t__sub__(self, other)\n",
    "*                                   \t__mul__(self, other)\n",
    "/                                   \t__truediv__(self, other)\n",
    "//                                  \t__floordiv__(self, other)\n",
    "%                                   \t__mod__(self, other)\n",
    "**                                  \t__pow__(self, other)\n",
    "\n",
    "#Comparison Operators :\n",
    "Operator                            \tMagic Method\n",
    "<                                   \t__lt__(self, other)\n",
    ">                                   \t__gt__(self, other)\n",
    "<=                                  \t__le__(self, other)\n",
    ">=                                  \t__ge__(self, other)\n",
    "==                                  \t__eq__(self, other)\n",
    "!=                                  \t__ne__(self, other)\n",
    "\n",
    "#Assignment Operators :\n",
    "Operator                            \tMagic Method\n",
    "-=                                  \t__isub__(self, other)\n",
    "+=                                  \t__iadd__(self, other)\n",
    "*=                                  \t__imul__(self, other)\n",
    "/=                                  \t__idiv__(self, other)\n",
    "//=                                 \t__ifloordiv__(self, other)\n",
    "%=                                  \t__imod__(self, other)\n",
    "**=                                 \t__ipow__(self, other)\n",
    "\n",
    "#Unary Operators :\n",
    "Operator                            \tMagic Method\n",
    "–                                   \t__neg__(self, other)\n",
    "+                                   \t__pos__(self, other)\n",
    "~                                   \t__invert__(self, other)\n",
    "\"\"\""
   ]
  },
  {
   "cell_type": "code",
   "execution_count": 8,
   "metadata": {},
   "outputs": [
    {
     "data": {
      "text/plain": [
       "'\\nOperator Overloading means giving extended meaning beyond their predefined operational meaning. For example \\noperator + is used to add two integers as well as join two strings and merge two lists. It is achievable \\nbecause ‘+’ operator is overloaded by int class and str class. You might have noticed that the same built-in \\noperator or function shows different behavior for objects of different classes, this is called Operator Overloading.\\n'"
      ]
     },
     "execution_count": 8,
     "metadata": {},
     "output_type": "execute_result"
    }
   ],
   "source": [
    "\n",
    "#Operator Overloading in Python\n",
    "\"\"\"\n",
    "Operator Overloading means giving extended meaning beyond their predefined operational meaning. For example \n",
    "operator + is used to add two integers as well as join two strings and merge two lists. It is achievable \n",
    "because ‘+’ operator is overloaded by int class and str class. You might have noticed that the same built-in \n",
    "operator or function shows different behavior for objects of different classes, this is called Operator Overloading.\n",
    "\"\"\""
   ]
  },
  {
   "cell_type": "code",
   "execution_count": 9,
   "metadata": {},
   "outputs": [
    {
     "name": "stdout",
     "output_type": "stream",
     "text": [
      "3\n",
      "GeeksFor\n",
      "12\n",
      "GeeksGeeksGeeksGeeks\n"
     ]
    }
   ],
   "source": [
    "\n",
    "# Python program to show use of \n",
    "# + operator for different purposes. \n",
    "  \n",
    "print(1 + 2) \n",
    "  \n",
    "# concatenate two strings \n",
    "print(\"Geeks\"+\"For\")  \n",
    "  \n",
    "# Product two numbers \n",
    "print(3 * 4) \n",
    "  \n",
    "# Repeat the String \n",
    "print(\"Geeks\"*4) \n"
   ]
  },
  {
   "cell_type": "code",
   "execution_count": 10,
   "metadata": {},
   "outputs": [
    {
     "name": "stdout",
     "output_type": "stream",
     "text": [
      "3\n",
      "GeeksFor\n"
     ]
    }
   ],
   "source": [
    "#how to overload the operators in Python?\n",
    "\"\"\"\n",
    "Consider that we have two objects which are a physical representation of a class (user-defined data type) and we have\n",
    "to add two objects with binary ‘+’ operator it throws an error, because compiler don’t know how to add two objects.\n",
    "\n",
    "So we define a method for an operator and that process is called operator overloading. We can overload all existing \n",
    "operators but we can’t create a new operator. To perform operator overloading, Python provides some special function \n",
    "or magic function that is automatically invoked when it is associated with that particular operator. For example, \n",
    "when we use + operator, the magic method __add__ is automatically invoked in which the operation for + operator is \n",
    "defined.\n",
    "\n",
    "Overloading binary + operator in Python :\n",
    "When we use an operator on user defined data types then automatically a special function or magic function associated\n",
    "with that operator is invoked. Changing the behavior of operator is as simple as changing the behavior of method or \n",
    "function. You define methods in your class and operators work according to that behavior defined in methods. When we\n",
    "use + operator, the magic method __add__ is automatically invoked in which the operation for + operator is defined. \n",
    "There by changing this magic method’s code, we can give extra meaning to the + operator.\n",
    "Code 1:\n",
    "\"\"\"\n",
    "# Python Program illustrate how  \n",
    "# to overload an binary + operator \n",
    "  \n",
    "class A: \n",
    "    def __init__(self, a): \n",
    "        self.a = a \n",
    "  \n",
    "    # adding two objects  \n",
    "    def __add__(self, o): \n",
    "        return self.a + o.a  \n",
    "ob1 = A(1) \n",
    "ob2 = A(2) \n",
    "ob3 = A(\"Geeks\") \n",
    "ob4 = A(\"For\") \n",
    "  \n",
    "print(ob1 + ob2) \n",
    "print(ob3 + ob4) \n"
   ]
  },
  {
   "cell_type": "code",
   "execution_count": 11,
   "metadata": {},
   "outputs": [
    {
     "name": "stdout",
     "output_type": "stream",
     "text": [
      "(3, 5)\n"
     ]
    }
   ],
   "source": [
    "#code 2:\n",
    "\n",
    "# Python Program to perform addition  \n",
    "# of two complex numbers using binary  \n",
    "# + operator overloading. \n",
    "  \n",
    "class complex: \n",
    "    def __init__(self, a, b): \n",
    "        self.a = a \n",
    "        self.b = b \n",
    "  \n",
    "     # adding two objects  \n",
    "    def __add__(self, other): \n",
    "        return self.a + other.a, self.b + other.b \n",
    "  \n",
    "    def __str__(self): \n",
    "        return self.a, self.b \n",
    "  \n",
    "Ob1 = complex(1, 2) \n",
    "Ob2 = complex(2, 3) \n",
    "Ob3 = Ob1 + Ob2 \n",
    "print(Ob3) \n"
   ]
  },
  {
   "cell_type": "code",
   "execution_count": 12,
   "metadata": {},
   "outputs": [
    {
     "name": "stdout",
     "output_type": "stream",
     "text": [
      "ob2 is greater than ob1\n"
     ]
    }
   ],
   "source": [
    "#Overloading comparison operators in Python :\n",
    "\n",
    "# Python program to overload \n",
    "# a comparison operators  \n",
    "  \n",
    "class A: \n",
    "    def __init__(self, a): \n",
    "        self.a = a \n",
    "    def __gt__(self, other): \n",
    "        if(self.a>other.a): \n",
    "            return True\n",
    "        else: \n",
    "            return False\n",
    "ob1 = A(2) \n",
    "ob2 = A(3) \n",
    "if(ob1>ob2): \n",
    "    print(\"ob1 is greater than ob2\") \n",
    "else: \n",
    "    print(\"ob2 is greater than ob1\") \n"
   ]
  },
  {
   "cell_type": "code",
   "execution_count": 13,
   "metadata": {},
   "outputs": [
    {
     "name": "stdout",
     "output_type": "stream",
     "text": [
      "ob1 is lessthan ob2\n",
      "Not equal\n"
     ]
    }
   ],
   "source": [
    "#Overloading equality and less than operators :\n",
    "\n",
    "# Python program to overload equality \n",
    "# and less than operators \n",
    "  \n",
    "class A: \n",
    "    def __init__(self, a): \n",
    "        self.a = a \n",
    "    def __lt__(self, other): \n",
    "        if(self.a<other.a): \n",
    "            return \"ob1 is lessthan ob2\"\n",
    "        else: \n",
    "            return \"ob2 is less than ob1\"\n",
    "    def __eq__(self, other): \n",
    "        if(self.a == other.a): \n",
    "            return \"Both are equal\"\n",
    "        else: \n",
    "            return \"Not equal\"\n",
    "                  \n",
    "ob1 = A(2) \n",
    "ob2 = A(3) \n",
    "print(ob1 < ob2) \n",
    "  \n",
    "ob3 = A(4) \n",
    "ob4 = A(4) \n",
    "print(ob1 == ob2) \n"
   ]
  },
  {
   "cell_type": "code",
   "execution_count": 15,
   "metadata": {},
   "outputs": [
    {
     "name": "stdout",
     "output_type": "stream",
     "text": [
      "5\n",
      "3\n"
     ]
    }
   ],
   "source": [
    "\n",
    "#Polymorphism in Python\n",
    "\n",
    "# What is Polymorphism : The word polymorphism means having many forms. In programming, polymorphism means same \n",
    "#     function name (but different signatures) being uses for different types.\n",
    "\n",
    "# Example of inbuilt polymorphic functions :\n",
    "\n",
    "# Python program to demonstrate in-built poly- \n",
    "# morphic functions \n",
    "  \n",
    "# len() being used for a string \n",
    "print(len(\"geeks\")) \n",
    "  \n",
    "# len() being used for a list \n",
    "print(len([10, 20, 30])) \n"
   ]
  },
  {
   "cell_type": "code",
   "execution_count": 16,
   "metadata": {},
   "outputs": [
    {
     "name": "stdout",
     "output_type": "stream",
     "text": [
      "5\n",
      "9\n"
     ]
    }
   ],
   "source": [
    "# Examples of used defined polymorphic functions :\n",
    "\n",
    "# A simple Python function to demonstrate  \n",
    "# Polymorphism \n",
    "  \n",
    "def add(x, y, z = 0):  \n",
    "    return x + y+z \n",
    "  \n",
    "# Driver code  \n",
    "print(add(2, 3)) \n",
    "print(add(2, 3, 4)) \n"
   ]
  },
  {
   "cell_type": "code",
   "execution_count": 17,
   "metadata": {},
   "outputs": [
    {
     "name": "stdout",
     "output_type": "stream",
     "text": [
      "New Delhi is the capital of India.\n",
      "Hindi the primary language of India.\n",
      "India is a developing country.\n",
      "Washington, D.C. is the capital of USA.\n",
      "English is the primary language of USA.\n",
      "USA is a developed country.\n"
     ]
    }
   ],
   "source": [
    "# Polymorphism with class methods:\n",
    "# Below code shows how python can use two different class types, in the same way. We create a for loop that \n",
    "# iterates through a tuple of objects. Then call the methods without being concerned about which class type each \n",
    "# object is. We assume that these methods actually exist in each class.\n",
    "\n",
    "\n",
    "\n",
    "class India(): \n",
    "    def capital(self): \n",
    "        print(\"New Delhi is the capital of India.\") \n",
    "  \n",
    "    def language(self): \n",
    "        print(\"Hindi the primary language of India.\") \n",
    "  \n",
    "    def type(self): \n",
    "        print(\"India is a developing country.\") \n",
    "  \n",
    "class USA(): \n",
    "    def capital(self): \n",
    "        print(\"Washington, D.C. is the capital of USA.\") \n",
    "  \n",
    "    def language(self): \n",
    "        print(\"English is the primary language of USA.\") \n",
    "  \n",
    "    def type(self): \n",
    "        print(\"USA is a developed country.\") \n",
    "  \n",
    "obj_ind = India() \n",
    "obj_usa = USA() \n",
    "for country in (obj_ind, obj_usa): \n",
    "    country.capital() \n",
    "    country.language() \n",
    "    country.type() \n"
   ]
  },
  {
   "cell_type": "code",
   "execution_count": null,
   "metadata": {},
   "outputs": [],
   "source": []
  }
 ],
 "metadata": {
  "kernelspec": {
   "display_name": "Python 3",
   "language": "python",
   "name": "python3"
  },
  "language_info": {
   "codemirror_mode": {
    "name": "ipython",
    "version": 3
   },
   "file_extension": ".py",
   "mimetype": "text/x-python",
   "name": "python",
   "nbconvert_exporter": "python",
   "pygments_lexer": "ipython3",
   "version": "3.7.3"
  }
 },
 "nbformat": 4,
 "nbformat_minor": 2
}
